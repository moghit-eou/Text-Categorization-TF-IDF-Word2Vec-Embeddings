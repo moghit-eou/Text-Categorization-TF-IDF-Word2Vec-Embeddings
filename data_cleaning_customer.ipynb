{
 "cells": [
  {
   "cell_type": "code",
   "execution_count": 1,
   "id": "3bdbc99a-8aad-4397-ac66-a643b1aaaf32",
   "metadata": {},
   "outputs": [],
   "source": [
    "import pandas as pd"
   ]
  },
  {
   "cell_type": "code",
   "execution_count": 5,
   "id": "5a2a11b0-33be-45bf-ac19-c7ae0e4a566e",
   "metadata": {},
   "outputs": [],
   "source": [
    "df_2 = pd.read_csv(\"./data/Customer/customer_data_2.csv\")\n",
    "df_1 = pd.read_csv(\"./data/Customer/customer_data_1.csv\")"
   ]
  },
  {
   "cell_type": "code",
   "execution_count": 8,
   "id": "8808ded0-d81e-4fda-afb5-c6792118211d",
   "metadata": {},
   "outputs": [
    {
     "data": {
      "text/html": [
       "<div>\n",
       "<style scoped>\n",
       "    .dataframe tbody tr th:only-of-type {\n",
       "        vertical-align: middle;\n",
       "    }\n",
       "\n",
       "    .dataframe tbody tr th {\n",
       "        vertical-align: top;\n",
       "    }\n",
       "\n",
       "    .dataframe thead th {\n",
       "        text-align: right;\n",
       "    }\n",
       "</style>\n",
       "<table border=\"1\" class=\"dataframe\">\n",
       "  <thead>\n",
       "    <tr style=\"text-align: right;\">\n",
       "      <th></th>\n",
       "      <th>text</th>\n",
       "    </tr>\n",
       "  </thead>\n",
       "  <tbody>\n",
       "    <tr>\n",
       "      <th>0</th>\n",
       "      <td>I'm having an issue with the {product_purchase...</td>\n",
       "    </tr>\n",
       "    <tr>\n",
       "      <th>1</th>\n",
       "      <td>I'm having an issue with the {product_purchase...</td>\n",
       "    </tr>\n",
       "    <tr>\n",
       "      <th>2</th>\n",
       "      <td>I'm facing a problem with my {product_purchase...</td>\n",
       "    </tr>\n",
       "    <tr>\n",
       "      <th>3</th>\n",
       "      <td>I'm having an issue with the {product_purchase...</td>\n",
       "    </tr>\n",
       "    <tr>\n",
       "      <th>4</th>\n",
       "      <td>I'm having an issue with the {product_purchase...</td>\n",
       "    </tr>\n",
       "  </tbody>\n",
       "</table>\n",
       "</div>"
      ],
      "text/plain": [
       "                                                text\n",
       "0  I'm having an issue with the {product_purchase...\n",
       "1  I'm having an issue with the {product_purchase...\n",
       "2  I'm facing a problem with my {product_purchase...\n",
       "3  I'm having an issue with the {product_purchase...\n",
       "4  I'm having an issue with the {product_purchase..."
      ]
     },
     "execution_count": 8,
     "metadata": {},
     "output_type": "execute_result"
    }
   ],
   "source": [
    "df_2.rename(columns={\"Ticket Description\": \"text\"} , inplace = True)\n",
    "df_2.head()"
   ]
  },
  {
   "cell_type": "code",
   "execution_count": 20,
   "id": "a9e7514f-f5d1-4498-b28c-c1cd0f72c314",
   "metadata": {},
   "outputs": [
    {
     "data": {
      "text/html": [
       "<div>\n",
       "<style scoped>\n",
       "    .dataframe tbody tr th:only-of-type {\n",
       "        vertical-align: middle;\n",
       "    }\n",
       "\n",
       "    .dataframe tbody tr th {\n",
       "        vertical-align: top;\n",
       "    }\n",
       "\n",
       "    .dataframe thead th {\n",
       "        text-align: right;\n",
       "    }\n",
       "</style>\n",
       "<table border=\"1\" class=\"dataframe\">\n",
       "  <thead>\n",
       "    <tr style=\"text-align: right;\">\n",
       "      <th></th>\n",
       "      <th>text</th>\n",
       "      <th>label</th>\n",
       "    </tr>\n",
       "  </thead>\n",
       "  <tbody>\n",
       "    <tr>\n",
       "      <th>0</th>\n",
       "      <td>Dear Sir/Madam,\\n\\nWhere can I find details ab...</td>\n",
       "      <td>customer</td>\n",
       "    </tr>\n",
       "    <tr>\n",
       "      <th>1</th>\n",
       "      <td>Dear Support,\\n\\nMy recent order #61510 arrive...</td>\n",
       "      <td>customer</td>\n",
       "    </tr>\n",
       "    <tr>\n",
       "      <th>2</th>\n",
       "      <td>Hello Team,\\n\\nCan you please provide the pric...</td>\n",
       "      <td>customer</td>\n",
       "    </tr>\n",
       "    <tr>\n",
       "      <th>3</th>\n",
       "      <td>Hello Team,\\n\\nCan you please provide the pric...</td>\n",
       "      <td>customer</td>\n",
       "    </tr>\n",
       "    <tr>\n",
       "      <th>4</th>\n",
       "      <td>Hi Team,\\n\\nThe quality of the Data Analytics ...</td>\n",
       "      <td>customer</td>\n",
       "    </tr>\n",
       "  </tbody>\n",
       "</table>\n",
       "</div>"
      ],
      "text/plain": [
       "                                                text     label\n",
       "0  Dear Sir/Madam,\\n\\nWhere can I find details ab...  customer\n",
       "1  Dear Support,\\n\\nMy recent order #61510 arrive...  customer\n",
       "2  Hello Team,\\n\\nCan you please provide the pric...  customer\n",
       "3  Hello Team,\\n\\nCan you please provide the pric...  customer\n",
       "4  Hi Team,\\n\\nThe quality of the Data Analytics ...  customer"
      ]
     },
     "execution_count": 20,
     "metadata": {},
     "output_type": "execute_result"
    }
   ],
   "source": [
    "df_1.head()"
   ]
  },
  {
   "cell_type": "code",
   "execution_count": 21,
   "id": "8c436d0e-6d93-4848-82aa-89fa5f92b7f1",
   "metadata": {},
   "outputs": [],
   "source": [
    "df_2[\"label\"] = \"customer\""
   ]
  },
  {
   "cell_type": "code",
   "execution_count": 24,
   "id": "50dc57c8-88f7-415a-aed4-ca534f67c8e3",
   "metadata": {},
   "outputs": [],
   "source": [
    "df = pd.concat([df_1 , df_2] , ignore_index = True )"
   ]
  },
  {
   "cell_type": "code",
   "execution_count": 34,
   "id": "94ea21b3-730f-4bae-a99d-409878c096fc",
   "metadata": {},
   "outputs": [],
   "source": [
    "df.to_csv(\"./data/Customer/customer_data.csv\", index = False)"
   ]
  },
  {
   "cell_type": "code",
   "execution_count": null,
   "id": "f6d78a3e-ac60-4e4c-9051-b73697731320",
   "metadata": {},
   "outputs": [],
   "source": []
  }
 ],
 "metadata": {
  "kernelspec": {
   "display_name": "nlp_vr_env",
   "language": "python",
   "name": "myenv"
  },
  "language_info": {
   "codemirror_mode": {
    "name": "ipython",
    "version": 3
   },
   "file_extension": ".py",
   "mimetype": "text/x-python",
   "name": "python",
   "nbconvert_exporter": "python",
   "pygments_lexer": "ipython3",
   "version": "3.10.0"
  }
 },
 "nbformat": 4,
 "nbformat_minor": 5
}
