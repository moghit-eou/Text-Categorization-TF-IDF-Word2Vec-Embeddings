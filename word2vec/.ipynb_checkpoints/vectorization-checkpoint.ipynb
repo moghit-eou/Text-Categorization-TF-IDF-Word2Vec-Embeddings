{
 "cells": [
  {
   "cell_type": "code",
   "execution_count": 18,
   "id": "d660323a-2f47-4b47-9165-7b1114d3f067",
   "metadata": {},
   "outputs": [],
   "source": [
    "sentences =[\n",
    "    ['machine', 'learning', 'is', 'fun'],\n",
    "    ['deep', 'learning', 'models', 'perform', 'well'],\n",
    "    ['natural', 'language', 'processing', 'is', 'interesting'],\n",
    "    ['word2vec', 'converts', 'words', 'to', 'vectors'],\n",
    "    ['this' , 'just' , 'a'  , 'test']\n",
    "]"
   ]
  },
  {
   "cell_type": "code",
   "execution_count": null,
   "id": "1eb6e48d-c03f-4e1d-b5b7-9b63beeb5bc4",
   "metadata": {},
   "outputs": [],
   "source": []
  },
  {
   "cell_type": "code",
   "execution_count": 19,
   "id": "26c25f1c-184e-434e-8aed-4f4b465de188",
   "metadata": {},
   "outputs": [],
   "source": [
    "from gensim.models import Word2Vec\n",
    "\n",
    "model = Word2Vec(\n",
    "    sentences,         \n",
    "    vector_size=100,    \n",
    "    window=5,            \n",
    "    min_count=1,         \n",
    "    workers=4,           \n",
    "    sg=0                 \n",
    ")"
   ]
  },
  {
   "cell_type": "code",
   "execution_count": 140,
   "id": "135fa9e5-50e3-4e5d-84be-5836f6133a27",
   "metadata": {},
   "outputs": [],
   "source": [
    "import numpy as np\n",
    "from gensim.models import KeyedVectors\n",
    "model = KeyedVectors.load(\"word2vec-google-news-300.model\")\n"
   ]
  },
  {
   "cell_type": "code",
   "execution_count": 141,
   "id": "ddd7f80f-4ae9-4168-8b0a-4a77ba745fb9",
   "metadata": {},
   "outputs": [
    {
     "data": {
      "text/plain": [
       "[('woman', 0.7664011716842651),\n",
       " ('boy', 0.6824871301651001),\n",
       " ('teenager', 0.6586929559707642)]"
      ]
     },
     "execution_count": 141,
     "metadata": {},
     "output_type": "execute_result"
    }
   ],
   "source": [
    "similar_words = model.most_similar(\"man\", topn=3)\n",
    "similar_words"
   ]
  },
  {
   "cell_type": "code",
   "execution_count": 210,
   "id": "75783fe2-24ad-4c6f-ad35-d723c97c924a",
   "metadata": {},
   "outputs": [],
   "source": [
    "vec = model['docker']\n"
   ]
  },
  {
   "cell_type": "code",
   "execution_count": 216,
   "id": "746dc269-4364-40d3-aaaf-f8077a77c938",
   "metadata": {},
   "outputs": [
    {
     "data": {
      "text/plain": [
       "[('Engineering', 0.7129400372505188),\n",
       " ('mechanical_engineering', 0.692539393901825),\n",
       " ('engineer', 0.6766180992126465)]"
      ]
     },
     "execution_count": 216,
     "metadata": {},
     "output_type": "execute_result"
    }
   ],
   "source": [
    "model.most_similar(\"engineering\", topn = 3 )"
   ]
  },
  {
   "cell_type": "code",
   "execution_count": 144,
   "id": "49423371-5ffa-4b9d-acfd-ea8e45e972fc",
   "metadata": {},
   "outputs": [
    {
     "data": {
      "text/plain": [
       "[('dog', 0.868048906326294),\n",
       " ('canines', 0.8181709051132202),\n",
       " ('cats', 0.76517653465271)]"
      ]
     },
     "execution_count": 144,
     "metadata": {},
     "output_type": "execute_result"
    }
   ],
   "source": [
    "model.most_similar(\"dogs\" , topn = 3 )"
   ]
  },
  {
   "cell_type": "code",
   "execution_count": 145,
   "id": "c33850d1-152a-4153-aca1-696eb1cf9f02",
   "metadata": {},
   "outputs": [],
   "source": [
    "def most_similar(word , n):\n",
    "    arr = model.most_similar(word, topn = n)\n",
    "    words = []\n",
    "    for item in arr : \n",
    "        words.append(item[0])\n",
    "    return words "
   ]
  },
  {
   "cell_type": "code",
   "execution_count": 146,
   "id": "051fa16b-d1d6-4dab-8697-2b2342ba625b",
   "metadata": {},
   "outputs": [],
   "source": [
    "words = most_similar(\"car\" , 3 ) "
   ]
  },
  {
   "cell_type": "code",
   "execution_count": 217,
   "id": "dd64382b-62bd-47e1-accb-b11b24a20410",
   "metadata": {},
   "outputs": [
    {
     "data": {
      "text/plain": [
       "['vehicle', 'cars', 'SUV', 'minivan']"
      ]
     },
     "execution_count": 217,
     "metadata": {},
     "output_type": "execute_result"
    }
   ],
   "source": [
    "most_similar(\"car\" , 4)"
   ]
  },
  {
   "cell_type": "code",
   "execution_count": 187,
   "id": "fdf422b5-6781-4f65-93f4-15289a420d2a",
   "metadata": {},
   "outputs": [
    {
     "data": {
      "text/plain": [
       "['cats', 'dog', 'kitten', 'feline']"
      ]
     },
     "execution_count": 187,
     "metadata": {},
     "output_type": "execute_result"
    }
   ],
   "source": [
    "most_similar(\"cat\", 4)"
   ]
  },
  {
   "cell_type": "code",
   "execution_count": 188,
   "id": "747cbef8-188a-4ebe-8979-749ea005f722",
   "metadata": {},
   "outputs": [
    {
     "data": {
      "text/plain": [
       "['mathematics', 'algebra', 'Math']"
      ]
     },
     "execution_count": 188,
     "metadata": {},
     "output_type": "execute_result"
    }
   ],
   "source": [
    "most_similar(\"math\" , 3)"
   ]
  },
  {
   "cell_type": "code",
   "execution_count": 170,
   "id": "5e9c7a1d-484f-4927-a968-386855b89864",
   "metadata": {},
   "outputs": [],
   "source": [
    "word_vectors  = []\n",
    "words_list = []\n",
    "def add(word, n):\n",
    "    words_list.append(word)\n",
    "    word_vectors.append(model[word]) \n",
    "    words = most_similar(word, n)  \n",
    "    for i in range(len(words)):\n",
    "        word_vector = model[words[i]]   \n",
    "        words_list.append(words[i])\n",
    "        word_vectors.append(word_vector) \n"
   ]
  },
  {
   "cell_type": "code",
   "execution_count": 171,
   "id": "917a3f0f-f8b0-4802-ada7-2284a159a964",
   "metadata": {},
   "outputs": [],
   "source": [
    "add ( \"car\" , 3 )\n",
    "add (\"math\" , 3)\n",
    "add (\"cat\" , 3 )"
   ]
  },
  {
   "cell_type": "code",
   "execution_count": 196,
   "id": "63d5b954-5dd6-4472-b21d-648f862527ac",
   "metadata": {},
   "outputs": [
    {
     "data": {
      "text/plain": [
       "300"
      ]
     },
     "execution_count": 196,
     "metadata": {},
     "output_type": "execute_result"
    }
   ],
   "source": [
    "model[\"car\"]\n",
    "len(model[\"car\"])"
   ]
  },
  {
   "cell_type": "code",
   "execution_count": 251,
   "id": "bce3363f-31a5-418e-bb11-2d9829491986",
   "metadata": {},
   "outputs": [
    {
     "data": {
      "text/plain": [
       "300"
      ]
     },
     "execution_count": 251,
     "metadata": {},
     "output_type": "execute_result"
    }
   ],
   "source": []
  },
  {
   "cell_type": "code",
   "execution_count": 220,
   "id": "f300ed22-29a0-4b26-bf9e-f7666a817c2d",
   "metadata": {},
   "outputs": [
    {
     "data": {
      "image/png": "[encoded data removed]",
      "text/plain": [
       "<Figure size 800x800 with 1 Axes>"
      ]
     },
     "metadata": {},
     "output_type": "display_data"
    }
   ],
   "source": [
    "pca = PCA(n_components=2)\n",
    "pca_result = pca.fit_transform(word_vectors)\n",
    "\n",
    "n = 8\n",
    "fig_size = ( n , n )\n",
    "plt.figure(figsize= fig_size )\n",
    "plt.scatter(pca_result[:, 0], pca_result[:, 1], color='blue')\n",
    "\n",
    "for i, word in enumerate(words_list):\n",
    "    plt.annotate(word, (pca_result[i, 0], pca_result[i, 1]), fontsize=8)\n",
    "\n",
    "plt.xlabel('PCA Component 1')\n",
    "plt.ylabel('PCA Component 2')\n",
    "plt.grid(True)\n",
    "plt.show()"
   ]
  },
  {
   "cell_type": "code",
   "execution_count": 177,
   "id": "c06846e3-4ff3-4bf2-926e-6bef43194ca8",
   "metadata": {},
   "outputs": [
    {
     "name": "stdout",
     "output_type": "stream",
     "text": [
      "12\n",
      "12\n"
     ]
    }
   ],
   "source": [
    "print ( len(words_list ) )\n",
    "print ( len(word_vectors )"
   ]
  },
  {
   "cell_type": "code",
   "execution_count": 247,
   "id": "83d9625b-8116-4125-8db9-19fd4f8abdd4",
   "metadata": {},
   "outputs": [],
   "source": [
    "sentence = \"the dog is barking loudly learning docker\""
   ]
  },
  {
   "cell_type": "code",
   "execution_count": 248,
   "id": "e79ade1c-b31d-4d02-ab7b-a7e4b99c902b",
   "metadata": {},
   "outputs": [],
   "source": [
    "import spacy \n",
    "nlp = spacy.load(\"en_core_web_lg\")\n",
    "stop_words = nlp.Defaults.stop_words"
   ]
  },
  {
   "cell_type": "code",
   "execution_count": 249,
   "id": "36c41910-2c88-4e36-8a36-bd9c86880d92",
   "metadata": {},
   "outputs": [
    {
     "name": "stdout",
     "output_type": "stream",
     "text": [
      "the _____  DET _____ det\n",
      "dog _____  NOUN _____ nsubj\n",
      "is _____  AUX _____ aux\n",
      "barking _____  VERB _____ ROOT\n",
      "loudly _____  ADV _____ advmod\n",
      "learning _____  VERB _____ xcomp\n",
      "docker _____  NOUN _____ dobj\n"
     ]
    }
   ],
   "source": [
    "doc = nlp(sentence)\n",
    "for token in doc:\n",
    "    print (f\"{token.text} _____  {token.pos_} _____ {token.dep_}\" )"
   ]
  },
  {
   "cell_type": "code",
   "execution_count": 250,
   "id": "68094477-fc18-4ace-87b4-4c8a733e8ef0",
   "metadata": {},
   "outputs": [
    {
     "name": "stdout",
     "output_type": "stream",
     "text": [
      "the\n",
      "dog\n",
      "be\n",
      "bark\n",
      "loudly\n",
      "learn\n",
      "docker\n"
     ]
    }
   ],
   "source": [
    "for word in doc:\n",
    "    print ( word.lemma_.lower() )"
   ]
  },
  {
   "cell_type": "code",
   "execution_count": 243,
   "id": "cf605c39-bf7a-4c8d-86f9-b0c83946019a",
   "metadata": {},
   "outputs": [
    {
     "name": "stdout",
     "output_type": "stream",
     "text": [
      "{\"n't\", 'anything', 'therefore', 'anyway', 'top', 'less', 'throughout', 'front', 'hereupon', 'put', 'these', 'hereby', 'against', 'never', 'not', 'between', 'although', 'indeed', 'few', 'whenever', 'wherein', 'anyhow', 'fifteen', 'been', 'could', 'still', 'also', 'give', 'ours', 'seems', 'yet', 'upon', 'mine', 'on', 'too', 'quite', 'them', 'into', 'together', 'neither', 'nor', 'beyond', 'wherever', 'himself', 'have', '‘d', 'from', \"'s\", 'four', 'meanwhile', 'everything', 'because', 'get', 'even', 'can', 'why', 'otherwise', 'here', 'besides', 'nine', 'amount', 'just', 'that', 'one', 'three', 'both', 'regarding', 'becomes', 'among', 'many', 'well', 'it', 'using', 'whereupon', 'while', 'after', 'whereas', 'me', 'become', 'make', 'becoming', 'than', 'being', 'sometimes', 'a', 'whether', 'back', 'thus', 'out', 'bottom', 'across', 'behind', 'whither', 'if', 'rather', 'forty', 'beforehand', 'the', 'per', 'somewhere', 'several', 'were', 'or', 'nobody', '’d', 'someone', 'had', 'enough', 'made', 're', 'my', 'whole', '‘re', 'though', 'thereupon', 'at', 'am', 'until', 'i', 'they', 'before', 'cannot', 'moreover', 'else', \"'m\", 'either', 'but', 'former', 'every', 'your', 'who', 'to', 'whereby', 'full', 'part', 'within', 'another', 'off', 'latter', \"'d\", 'beside', 'without', 'when', 'formerly', 'name', 'now', 'has', '‘ll', 'he', 'anyone', 'an', 'such', 'since', 'any', 'nevertheless', 'via', 'n’t', 'with', 'towards', 'seeming', 'how', '’re', 'nothing', 'in', 'call', 'namely', 'everywhere', 'go', 'as', 'below', 'twelve', 'we', 'only', 'always', 'anywhere', 'once', \"'ll\", \"'re\", 'latterly', 'eleven', '‘s', 'are', 'seemed', 'elsewhere', 'ever', 'herself', 'what', 'hers', 'five', 'along', 'some', '’ll', 'this', 'their', 'does', 'fifty', 'around', 'may', 'whatever', 'no', 'show', 'something', 'most', 'first', 'yours', 'of', 'there', 'yourselves', 'further', 'mostly', 'last', 'really', 'herein', 'please', 'through', 'other', 'by', 'its', 'is', 'done', 'for', 'next', 'then', 'least', 'myself', 'she', 'somehow', 'perhaps', 'keep', 'serious', '‘m', 'above', 'themselves', 'do', 'will', '‘ve', 'hundred', 'except', 'nowhere', 'whence', 'amongst', 'did', 'our', 'move', 'all', 'would', 'each', 'twenty', 'very', 'where', 'thereafter', 'thence', 'hereafter', 'six', 'those', 'whoever', '’ve', 'due', 'sometime', 'various', 'be', 'her', 'see', 'take', 'often', 'must', 'yourself', '’s', 'noone', 'onto', 'his', 'sixty', 'eight', 'none', 'others', 'same', 'during', 'side', 'whereafter', 'which', 'own', 'again', 'and', 'up', 'under', 'alone', 'empty', 'almost', 'say', 'us', 'so', 'ourselves', 'everyone', 'became', 'ten', 'you', 'unless', 'thru', 'hence', 'should', 'third', 'about', 'over', 'afterwards', \"'ve\", 'whose', 'doing', 'thereby', 'used', 'therein', 'however', 'ca', 'down', 'seem', 'was', 'n‘t', '’m', 'already', 'him', 'two', 'more', 'much', 'might', 'toward', 'whom', 'itself'}\n"
     ]
    }
   ],
   "source": [
    "stop_words = nlp.Defaults.stop_words\n"
   ]
  },
  {
   "cell_type": "code",
   "execution_count": null,
   "id": "9933aa4c-8a7b-4920-a077-27efcfa50830",
   "metadata": {},
   "outputs": [],
   "source": []
  }
 ],
 "metadata": {
  "kernelspec": {
   "display_name": "nlp_vr_env",
   "language": "python",
   "name": "myenv"
  },
  "language_info": {
   "codemirror_mode": {
    "name": "ipython",
    "version": 3
   },
   "file_extension": ".py",
   "mimetype": "text/x-python",
   "name": "python",
   "nbconvert_exporter": "python",
   "pygments_lexer": "ipython3",
   "version": "3.10.0"
  }
 },
 "nbformat": 4,
 "nbformat_minor": 5
}
