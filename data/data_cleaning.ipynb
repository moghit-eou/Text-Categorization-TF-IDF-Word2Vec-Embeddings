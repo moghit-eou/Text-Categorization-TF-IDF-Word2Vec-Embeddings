{
 "cells": [
  {
   "cell_type": "code",
   "execution_count": 1,
   "id": "bf155e0e-7917-4a50-b4c9-b3567c1cf553",
   "metadata": {},
   "outputs": [],
   "source": [
    "import pandas as pd\n"
   ]
  },
  {
   "cell_type": "code",
   "execution_count": 3,
   "id": "13ac64b2-2776-4a51-9884-55fd488cbebc",
   "metadata": {},
   "outputs": [],
   "source": []
  },
  {
   "cell_type": "code",
   "execution_count": 26,
   "id": "5b29bda2-75b1-45fb-a48f-1dfc7580ca13",
   "metadata": {},
   "outputs": [],
   "source": []
  },
  {
   "cell_type": "code",
   "execution_count": 27,
   "id": "48f51a7d-45f8-4b4e-a421-468df312280b",
   "metadata": {},
   "outputs": [],
   "source": []
  },
  {
   "cell_type": "code",
   "execution_count": 30,
   "id": "1ab05281-ccfc-408d-ae46-435a339b766f",
   "metadata": {},
   "outputs": [],
   "source": []
  },
  {
   "cell_type": "code",
   "execution_count": 34,
   "id": "22ba2cde-9912-4382-a225-fb545eb37ea1",
   "metadata": {},
   "outputs": [],
   "source": []
  },
  {
   "cell_type": "code",
   "execution_count": 38,
   "id": "e75e778b-6a43-4871-b127-311642def5fd",
   "metadata": {},
   "outputs": [
    {
     "name": "stdout",
     "output_type": "stream",
     "text": [
      "                                          email_body          label\n",
      "0  Dear Hiring Manager,\\n\\nI wish to inquire abou...  job_applicant\n",
      "1  Dear [Company Name] Team,\\n\\nHaving followed G...  job_applicant\n",
      "2  Please accept this email as my formal applicat...  job_applicant\n",
      "3  Dear Hiring Manager,\\n\\nI am excited to apply ...  job_applicant\n",
      "4  Hi there,\\n\\nHaving followed Synergy Systems's...  job_applicant\n"
     ]
    }
   ],
   "source": []
  },
  {
   "cell_type": "code",
   "execution_count": 39,
   "id": "adac10b8-9da8-4348-8178-58bd449cbb43",
   "metadata": {},
   "outputs": [
    {
     "name": "stdout",
     "output_type": "stream",
     "text": [
      "                                          email_body     label\n",
      "0  Hi Dana,\\n\\nI trust you're having a productive...  customer\n",
      "1  Good afternoon Lisa,\\n\\nThank you for your con...  customer\n",
      "2  Dear GlobalServe team,\\n\\nThank you for your c...  customer\n",
      "3  Hello GlobalServe support,\\n\\nI hope this emai...  customer\n",
      "4  Good morning Grace,\\n\\nI trust you're having a...  customer\n"
     ]
    }
   ],
   "source": []
  },
  {
   "cell_type": "code",
   "execution_count": null,
   "id": "eee12837-c7a6-415f-9cc9-5915fc41e1e8",
   "metadata": {},
   "outputs": [],
   "source": []
  },
  {
   "cell_type": "code",
   "execution_count": 43,
   "id": "b01c7442-94d2-49c9-bcb7-b786f9d465ee",
   "metadata": {},
   "outputs": [],
   "source": [
    "word2vec_data = pd.concat([job_data, client_data, work_data], ignore_index=True)"
   ]
  },
  {
   "cell_type": "code",
   "execution_count": null,
   "id": "e9c471a7-6874-428f-b20b-84d2954e0d26",
   "metadata": {},
   "outputs": [],
   "source": []
  },
  {
   "cell_type": "code",
   "execution_count": 69,
   "id": "87634dd8-06ff-42c1-92d1-3a47d96895e6",
   "metadata": {},
   "outputs": [],
   "source": [
    "first_df = pd.read_csv(\"./co_work/co_work.csv\")"
   ]
  },
  {
   "cell_type": "code",
   "execution_count": 98,
   "id": "35a446ab-e800-41ac-98ca-2f5110471423",
   "metadata": {},
   "outputs": [],
   "source": [
    "work_customer = first_df"
   ]
  },
  {
   "cell_type": "code",
   "execution_count": 99,
   "id": "2f8b914d-f3f6-44ac-ae6d-152aeeec5bea",
   "metadata": {},
   "outputs": [],
   "source": [
    "work_customer = work_customer.loc[:100 , ]"
   ]
  },
  {
   "cell_type": "code",
   "execution_count": 100,
   "id": "e0e7658f-897c-4830-8296-13ea3c6159ab",
   "metadata": {},
   "outputs": [
    {
     "name": "stderr",
     "output_type": "stream",
     "text": [
      "C:\\Users\\lenovo\\AppData\\Local\\Temp\\ipykernel_23096\\1510718833.py:1: SettingWithCopyWarning: \n",
      "A value is trying to be set on a copy of a slice from a DataFrame.\n",
      "Try using .loc[row_indexer,col_indexer] = value instead\n",
      "\n",
      "See the caveats in the documentation: https://pandas.pydata.org/pandas-docs/stable/user_guide/indexing.html#returning-a-view-versus-a-copy\n",
      "  work_customer['label'] = 'customer'\n"
     ]
    }
   ],
   "source": [
    "work_customer['label'] = 'customer'"
   ]
  },
  {
   "cell_type": "code",
   "execution_count": 104,
   "id": "babbd8b1-fef3-45ed-8c88-928fb945d7c5",
   "metadata": {},
   "outputs": [],
   "source": [
    "work_customer.to_csv(\"work_customer.csv\" , index = False )"
   ]
  },
  {
   "cell_type": "code",
   "execution_count": 108,
   "id": "94cfb16d-f4cc-4da4-9408-8b4e46b276c8",
   "metadata": {},
   "outputs": [],
   "source": [
    "work_job = first_df "
   ]
  },
  {
   "cell_type": "code",
   "execution_count": 109,
   "id": "8e0bc242-fa3b-487f-af28-def405cc9fe1",
   "metadata": {},
   "outputs": [],
   "source": [
    "work_job = work_job[100:200]"
   ]
  },
  {
   "cell_type": "code",
   "execution_count": 112,
   "id": "0aa9da84-d571-48e9-9cad-09c75c14c9e1",
   "metadata": {},
   "outputs": [
    {
     "name": "stderr",
     "output_type": "stream",
     "text": [
      "C:\\Users\\lenovo\\AppData\\Local\\Temp\\ipykernel_23096\\404682670.py:1: SettingWithCopyWarning: \n",
      "A value is trying to be set on a copy of a slice from a DataFrame.\n",
      "Try using .loc[row_indexer,col_indexer] = value instead\n",
      "\n",
      "See the caveats in the documentation: https://pandas.pydata.org/pandas-docs/stable/user_guide/indexing.html#returning-a-view-versus-a-copy\n",
      "  work_job[\"label\"] = \"job_applicant\"\n"
     ]
    }
   ],
   "source": [
    "work_job[\"label\"] = \"job_applicant\""
   ]
  },
  {
   "cell_type": "code",
   "execution_count": 114,
   "id": "d6b0dbdb-e553-4d29-ae0a-6c4c16ca9947",
   "metadata": {},
   "outputs": [],
   "source": [
    "work_job.to_csv(\"work_job.csv\" , index = False )"
   ]
  },
  {
   "cell_type": "code",
   "execution_count": 125,
   "id": "54cd91fa-4640-499f-8588-33d469c5057b",
   "metadata": {},
   "outputs": [],
   "source": [
    "first_df = pd.read_csv(\"./job_application/job_2.csv\")"
   ]
  },
  {
   "cell_type": "code",
   "execution_count": 129,
   "id": "1ea3cbf9-1aa8-40da-a8e3-c557f7f1d095",
   "metadata": {},
   "outputs": [
    {
     "data": {
      "text/plain": [
       "(5000, 2)"
      ]
     },
     "execution_count": 129,
     "metadata": {},
     "output_type": "execute_result"
    }
   ],
   "source": [
    "first_df.shape"
   ]
  },
  {
   "cell_type": "code",
   "execution_count": 117,
   "id": "c46dff1c-6c66-465f-8cde-5fc4a5e8f51e",
   "metadata": {},
   "outputs": [
    {
     "name": "stderr",
     "output_type": "stream",
     "text": [
      "C:\\Users\\lenovo\\AppData\\Local\\Temp\\ipykernel_23096\\1132519622.py:2: SettingWithCopyWarning: \n",
      "A value is trying to be set on a copy of a slice from a DataFrame.\n",
      "Try using .loc[row_indexer,col_indexer] = value instead\n",
      "\n",
      "See the caveats in the documentation: https://pandas.pydata.org/pandas-docs/stable/user_guide/indexing.html#returning-a-view-versus-a-copy\n",
      "  customer_work[\"label\"] = \"co_worker\"\n",
      "C:\\Users\\lenovo\\AppData\\Local\\Temp\\ipykernel_23096\\1132519622.py:5: SettingWithCopyWarning: \n",
      "A value is trying to be set on a copy of a slice from a DataFrame.\n",
      "Try using .loc[row_indexer,col_indexer] = value instead\n",
      "\n",
      "See the caveats in the documentation: https://pandas.pydata.org/pandas-docs/stable/user_guide/indexing.html#returning-a-view-versus-a-copy\n",
      "  customer_job[\"label\"] = \"job\"\n"
     ]
    }
   ],
   "source": [
    "customer_work = first_df[:100]\n",
    "customer_work[\"label\"] = \"co_worker\"\n",
    "\n",
    "customer_job = first_df[100:200]\n",
    "customer_job[\"label\"] = \"job\""
   ]
  },
  {
   "cell_type": "code",
   "execution_count": 120,
   "id": "8d4d1dc9-cc38-469b-ae76-1e2c7c48b43a",
   "metadata": {},
   "outputs": [
    {
     "name": "stderr",
     "output_type": "stream",
     "text": [
      "C:\\Users\\lenovo\\AppData\\Local\\Temp\\ipykernel_23096\\596783228.py:1: SettingWithCopyWarning: \n",
      "A value is trying to be set on a copy of a slice from a DataFrame.\n",
      "Try using .loc[row_indexer,col_indexer] = value instead\n",
      "\n",
      "See the caveats in the documentation: https://pandas.pydata.org/pandas-docs/stable/user_guide/indexing.html#returning-a-view-versus-a-copy\n",
      "  customer_job[\"label\"] = \"job_applicant\"\n"
     ]
    }
   ],
   "source": [
    "customer_job[\"label\"] = \"job_applicant\""
   ]
  },
  {
   "cell_type": "code",
   "execution_count": 122,
   "id": "b5f7f141-f0ba-494b-be84-3f2997c42c8b",
   "metadata": {},
   "outputs": [],
   "source": [
    "customer_work.to_csv(\"customer_work.csv\" , index = False )\n",
    "customer_job.to_csv(\"customer_job.csv\" , index = False ) "
   ]
  },
  {
   "cell_type": "code",
   "execution_count": 130,
   "id": "bb07deac-a037-4924-89cf-9e2d78fcfbbb",
   "metadata": {},
   "outputs": [
    {
     "name": "stderr",
     "output_type": "stream",
     "text": [
      "C:\\Users\\lenovo\\AppData\\Local\\Temp\\ipykernel_23096\\1846428349.py:2: SettingWithCopyWarning: \n",
      "A value is trying to be set on a copy of a slice from a DataFrame.\n",
      "Try using .loc[row_indexer,col_indexer] = value instead\n",
      "\n",
      "See the caveats in the documentation: https://pandas.pydata.org/pandas-docs/stable/user_guide/indexing.html#returning-a-view-versus-a-copy\n",
      "  job_work[\"label\"] = \"co_worker\"\n",
      "C:\\Users\\lenovo\\AppData\\Local\\Temp\\ipykernel_23096\\1846428349.py:5: SettingWithCopyWarning: \n",
      "A value is trying to be set on a copy of a slice from a DataFrame.\n",
      "Try using .loc[row_indexer,col_indexer] = value instead\n",
      "\n",
      "See the caveats in the documentation: https://pandas.pydata.org/pandas-docs/stable/user_guide/indexing.html#returning-a-view-versus-a-copy\n",
      "  job_customer[\"label\"] = \"customer\"\n"
     ]
    }
   ],
   "source": [
    "job_work = first_df[:100]\n",
    "job_work[\"label\"] = \"co_worker\"\n",
    "\n",
    "job_customer = first_df[100:200]\n",
    "job_customer[\"label\"] = \"customer\""
   ]
  },
  {
   "cell_type": "code",
   "execution_count": 139,
   "id": "79762cfd-8897-4ae5-a0d6-433a993dc3b1",
   "metadata": {},
   "outputs": [],
   "source": []
  },
  {
   "cell_type": "code",
   "execution_count": 144,
   "id": "a1e03550-f617-4b8f-af8d-bc631affa8aa",
   "metadata": {},
   "outputs": [],
   "source": []
  },
  {
   "cell_type": "code",
   "execution_count": null,
   "id": "6a094dfd-e113-4379-9126-80ab3cd66c45",
   "metadata": {},
   "outputs": [],
   "source": []
  },
  {
   "cell_type": "code",
   "execution_count": 148,
   "id": "2fe39980-b428-4443-a231-549a8558d631",
   "metadata": {},
   "outputs": [
    {
     "data": {
      "text/html": [
       "<div>\n",
       "<style scoped>\n",
       "    .dataframe tbody tr th:only-of-type {\n",
       "        vertical-align: middle;\n",
       "    }\n",
       "\n",
       "    .dataframe tbody tr th {\n",
       "        vertical-align: top;\n",
       "    }\n",
       "\n",
       "    .dataframe thead th {\n",
       "        text-align: right;\n",
       "    }\n",
       "</style>\n",
       "<table border=\"1\" class=\"dataframe\">\n",
       "  <thead>\n",
       "    <tr style=\"text-align: right;\">\n",
       "      <th></th>\n",
       "      <th>text</th>\n",
       "      <th>label</th>\n",
       "    </tr>\n",
       "  </thead>\n",
       "  <tbody>\n",
       "    <tr>\n",
       "      <th>0</th>\n",
       "      <td>Notice: Changes to vacation accrual have been ...</td>\n",
       "      <td>job_applicant</td>\n",
       "    </tr>\n",
       "    <tr>\n",
       "      <th>1</th>\n",
       "      <td>Update: The Engineering team has finished the ...</td>\n",
       "      <td>job_applicant</td>\n",
       "    </tr>\n",
       "    <tr>\n",
       "      <th>2</th>\n",
       "      <td>Join us for the Developer Meetup on July 1. RS...</td>\n",
       "      <td>job_applicant</td>\n",
       "    </tr>\n",
       "    <tr>\n",
       "      <th>3</th>\n",
       "      <td>Just wanted to update everyone on the Delta pr...</td>\n",
       "      <td>job_applicant</td>\n",
       "    </tr>\n",
       "    <tr>\n",
       "      <th>4</th>\n",
       "      <td>Please review the new Expense Reimbursement po...</td>\n",
       "      <td>job_applicant</td>\n",
       "    </tr>\n",
       "    <tr>\n",
       "      <th>...</th>\n",
       "      <td>...</td>\n",
       "      <td>...</td>\n",
       "    </tr>\n",
       "    <tr>\n",
       "      <th>596</th>\n",
       "      <td>Dear Hiring Manager,\\n\\nI am writing to expres...</td>\n",
       "      <td>customer</td>\n",
       "    </tr>\n",
       "    <tr>\n",
       "      <th>597</th>\n",
       "      <td>Dear Hiring Manager,\\n\\nI am writing to expres...</td>\n",
       "      <td>customer</td>\n",
       "    </tr>\n",
       "    <tr>\n",
       "      <th>598</th>\n",
       "      <td>Dear Hiring Manager,\\n\\nI am writing to expres...</td>\n",
       "      <td>customer</td>\n",
       "    </tr>\n",
       "    <tr>\n",
       "      <th>599</th>\n",
       "      <td>Dear Hiring Manager,\\n\\nI am writing to expres...</td>\n",
       "      <td>customer</td>\n",
       "    </tr>\n",
       "    <tr>\n",
       "      <th>600</th>\n",
       "      <td>Dear Hiring Manager,\\n\\nI am writing to expres...</td>\n",
       "      <td>customer</td>\n",
       "    </tr>\n",
       "  </tbody>\n",
       "</table>\n",
       "<p>601 rows × 2 columns</p>\n",
       "</div>"
      ],
      "text/plain": [
       "                                                  text          label\n",
       "0    Notice: Changes to vacation accrual have been ...  job_applicant\n",
       "1    Update: The Engineering team has finished the ...  job_applicant\n",
       "2    Join us for the Developer Meetup on July 1. RS...  job_applicant\n",
       "3    Just wanted to update everyone on the Delta pr...  job_applicant\n",
       "4    Please review the new Expense Reimbursement po...  job_applicant\n",
       "..                                                 ...            ...\n",
       "596  Dear Hiring Manager,\\n\\nI am writing to expres...       customer\n",
       "597  Dear Hiring Manager,\\n\\nI am writing to expres...       customer\n",
       "598  Dear Hiring Manager,\\n\\nI am writing to expres...       customer\n",
       "599  Dear Hiring Manager,\\n\\nI am writing to expres...       customer\n",
       "600  Dear Hiring Manager,\\n\\nI am writing to expres...       customer\n",
       "\n",
       "[601 rows x 2 columns]"
      ]
     },
     "execution_count": 148,
     "metadata": {},
     "output_type": "execute_result"
    }
   ],
   "source": []
  },
  {
   "cell_type": "code",
   "execution_count": 149,
   "id": "771d246c-5b2e-40b0-a131-96152ab1698c",
   "metadata": {},
   "outputs": [],
   "source": [
    "df = pd.read_csv(\"combined_email_data.csv\")"
   ]
  },
  {
   "cell_type": "code",
   "execution_count": 155,
   "id": "5ebb816d-e846-4430-9dc7-b7c249853ad0",
   "metadata": {},
   "outputs": [],
   "source": [
    "df.rename( columns = { 'text' : 'email_body'} , inplace = True  ) "
   ]
  },
  {
   "cell_type": "code",
   "execution_count": 158,
   "id": "c2181d4d-0d1f-4e4c-b80a-0b041b9c01d4",
   "metadata": {},
   "outputs": [],
   "source": [
    "false_data.rename( columns = {'text' : 'email_body'} , inplace = True ) "
   ]
  },
  {
   "cell_type": "code",
   "execution_count": 163,
   "id": "6094770d-d52b-41b3-b8ea-0c92dca36bfc",
   "metadata": {},
   "outputs": [
    {
     "data": {
      "text/plain": [
       "(601,)"
      ]
     },
     "execution_count": 163,
     "metadata": {},
     "output_type": "execute_result"
    }
   ],
   "source": [
    "\n",
    "false_data['label'].shape"
   ]
  },
  {
   "cell_type": "code",
   "execution_count": 162,
   "id": "11303756-e819-4f54-ad18-7b9b8947f563",
   "metadata": {},
   "outputs": [
    {
     "data": {
      "text/plain": [
       "(30000,)"
      ]
     },
     "execution_count": 162,
     "metadata": {},
     "output_type": "execute_result"
    }
   ],
   "source": [
    "df['label'].shape"
   ]
  },
  {
   "cell_type": "code",
   "execution_count": 165,
   "id": "3cfa1118-0c1e-4e29-bfce-b61d195ededf",
   "metadata": {},
   "outputs": [],
   "source": [
    "final_data = pd.concat([df , false_data] , ignore_index = True )"
   ]
  },
  {
   "cell_type": "code",
   "execution_count": 168,
   "id": "f79ab9cf-382a-46bd-bada-8adbbfbf1aa2",
   "metadata": {},
   "outputs": [
    {
     "data": {
      "text/plain": [
       "array(['job_applicant', 'customer', 'co_worker'], dtype=object)"
      ]
     },
     "execution_count": 168,
     "metadata": {},
     "output_type": "execute_result"
    }
   ],
   "source": [
    "final_data.label.unique()"
   ]
  },
  {
   "cell_type": "code",
   "execution_count": 174,
   "id": "d1b18b0c-1501-4a8a-bdb4-2c222d33905a",
   "metadata": {},
   "outputs": [],
   "source": [
    "final_data.to_csv(\"final_data.csv\" , index = False )"
   ]
  },
  {
   "cell_type": "code",
   "execution_count": 175,
   "id": "b93f2579-1574-40b7-aa98-aa4a55c70fb9",
   "metadata": {},
   "outputs": [
    {
     "data": {
      "text/html": [
       "<div>\n",
       "<style scoped>\n",
       "    .dataframe tbody tr th:only-of-type {\n",
       "        vertical-align: middle;\n",
       "    }\n",
       "\n",
       "    .dataframe tbody tr th {\n",
       "        vertical-align: top;\n",
       "    }\n",
       "\n",
       "    .dataframe thead th {\n",
       "        text-align: right;\n",
       "    }\n",
       "</style>\n",
       "<table border=\"1\" class=\"dataframe\">\n",
       "  <thead>\n",
       "    <tr style=\"text-align: right;\">\n",
       "      <th></th>\n",
       "      <th>email_body</th>\n",
       "      <th>label</th>\n",
       "    </tr>\n",
       "  </thead>\n",
       "  <tbody>\n",
       "    <tr>\n",
       "      <th>0</th>\n",
       "      <td>Dear Hiring Manager,\\n\\nI wish to inquire abou...</td>\n",
       "      <td>job_applicant</td>\n",
       "    </tr>\n",
       "    <tr>\n",
       "      <th>1</th>\n",
       "      <td>Dear [Company Name] Team,\\n\\nHaving followed G...</td>\n",
       "      <td>job_applicant</td>\n",
       "    </tr>\n",
       "    <tr>\n",
       "      <th>2</th>\n",
       "      <td>Please accept this email as my formal applicat...</td>\n",
       "      <td>job_applicant</td>\n",
       "    </tr>\n",
       "    <tr>\n",
       "      <th>3</th>\n",
       "      <td>Dear Hiring Manager,\\n\\nI am excited to apply ...</td>\n",
       "      <td>job_applicant</td>\n",
       "    </tr>\n",
       "    <tr>\n",
       "      <th>4</th>\n",
       "      <td>Hi there,\\n\\nHaving followed Synergy Systems's...</td>\n",
       "      <td>job_applicant</td>\n",
       "    </tr>\n",
       "    <tr>\n",
       "      <th>...</th>\n",
       "      <td>...</td>\n",
       "      <td>...</td>\n",
       "    </tr>\n",
       "    <tr>\n",
       "      <th>30596</th>\n",
       "      <td>Dear Hiring Manager,\\n\\nI am writing to expres...</td>\n",
       "      <td>customer</td>\n",
       "    </tr>\n",
       "    <tr>\n",
       "      <th>30597</th>\n",
       "      <td>Dear Hiring Manager,\\n\\nI am writing to expres...</td>\n",
       "      <td>customer</td>\n",
       "    </tr>\n",
       "    <tr>\n",
       "      <th>30598</th>\n",
       "      <td>Dear Hiring Manager,\\n\\nI am writing to expres...</td>\n",
       "      <td>customer</td>\n",
       "    </tr>\n",
       "    <tr>\n",
       "      <th>30599</th>\n",
       "      <td>Dear Hiring Manager,\\n\\nI am writing to expres...</td>\n",
       "      <td>customer</td>\n",
       "    </tr>\n",
       "    <tr>\n",
       "      <th>30600</th>\n",
       "      <td>Dear Hiring Manager,\\n\\nI am writing to expres...</td>\n",
       "      <td>customer</td>\n",
       "    </tr>\n",
       "  </tbody>\n",
       "</table>\n",
       "<p>30601 rows × 2 columns</p>\n",
       "</div>"
      ],
      "text/plain": [
       "                                              email_body          label\n",
       "0      Dear Hiring Manager,\\n\\nI wish to inquire abou...  job_applicant\n",
       "1      Dear [Company Name] Team,\\n\\nHaving followed G...  job_applicant\n",
       "2      Please accept this email as my formal applicat...  job_applicant\n",
       "3      Dear Hiring Manager,\\n\\nI am excited to apply ...  job_applicant\n",
       "4      Hi there,\\n\\nHaving followed Synergy Systems's...  job_applicant\n",
       "...                                                  ...            ...\n",
       "30596  Dear Hiring Manager,\\n\\nI am writing to expres...       customer\n",
       "30597  Dear Hiring Manager,\\n\\nI am writing to expres...       customer\n",
       "30598  Dear Hiring Manager,\\n\\nI am writing to expres...       customer\n",
       "30599  Dear Hiring Manager,\\n\\nI am writing to expres...       customer\n",
       "30600  Dear Hiring Manager,\\n\\nI am writing to expres...       customer\n",
       "\n",
       "[30601 rows x 2 columns]"
      ]
     },
     "execution_count": 175,
     "metadata": {},
     "output_type": "execute_result"
    }
   ],
   "source": [
    "final_data"
   ]
  },
  {
   "cell_type": "code",
   "execution_count": null,
   "id": "1cdcc36e-37f9-4abe-b899-9ead87669dd0",
   "metadata": {},
   "outputs": [],
   "source": []
  }
 ],
 "metadata": {
  "kernelspec": {
   "display_name": "Python 3 (ipykernel)",
   "language": "python",
   "name": "python3"
  },
  "language_info": {
   "codemirror_mode": {
    "name": "ipython",
    "version": 3
   },
   "file_extension": ".py",
   "mimetype": "text/x-python",
   "name": "python",
   "nbconvert_exporter": "python",
   "pygments_lexer": "ipython3",
   "version": "3.10.0"
  }
 },
 "nbformat": 4,
 "nbformat_minor": 5
}
