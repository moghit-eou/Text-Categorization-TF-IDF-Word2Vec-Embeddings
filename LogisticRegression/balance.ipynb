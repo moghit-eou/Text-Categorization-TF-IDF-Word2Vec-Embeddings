{
 "cells": [
  {
   "cell_type": "code",
   "execution_count": 2,
   "id": "cfdc6ab9-3891-4045-b00e-0d71005e4d1d",
   "metadata": {},
   "outputs": [],
   "source": [
    "import warnings\n",
    "import pandas as pd\n",
    "import re\n",
    "from sklearn.model_selection import train_test_split\n",
    "import matplotlib.pyplot as plt\n",
    "import seaborn as sns\n",
    "from sklearn.feature_extraction.text import TfidfVectorizer\n",
    "from sklearn.linear_model import LogisticRegression\n",
    "from sklearn.metrics import classification_report, accuracy_score\n",
    "from sklearn.linear_model import LogisticRegression\n",
    "from sklearn.metrics import classification_report, accuracy_score\n",
    "from sklearn.metrics import confusion_matrix, ConfusionMatrixDisplay\n",
    "import numpy as np\n",
    "\n",
    "warnings.filterwarnings(\"ignore\")"
   ]
  },
  {
   "cell_type": "code",
   "execution_count": 4,
   "id": "d1dea25e-8908-4ae2-871d-76238990ef06",
   "metadata": {},
   "outputs": [
    {
     "data": {
      "text/html": [
       "<div>\n",
       "<style scoped>\n",
       "    .dataframe tbody tr th:only-of-type {\n",
       "        vertical-align: middle;\n",
       "    }\n",
       "\n",
       "    .dataframe tbody tr th {\n",
       "        vertical-align: top;\n",
       "    }\n",
       "\n",
       "    .dataframe thead th {\n",
       "        text-align: right;\n",
       "    }\n",
       "</style>\n",
       "<table border=\"1\" class=\"dataframe\">\n",
       "  <thead>\n",
       "    <tr style=\"text-align: right;\">\n",
       "      <th></th>\n",
       "      <th>text</th>\n",
       "      <th>label</th>\n",
       "    </tr>\n",
       "  </thead>\n",
       "  <tbody>\n",
       "    <tr>\n",
       "      <th>9825</th>\n",
       "      <td>Dear Hiring Manager,\\n\\nI am writing to expres...</td>\n",
       "      <td>job_applicant</td>\n",
       "    </tr>\n",
       "    <tr>\n",
       "      <th>9826</th>\n",
       "      <td>Dear Hiring Manager,\\n\\nI am writing to expres...</td>\n",
       "      <td>job_applicant</td>\n",
       "    </tr>\n",
       "    <tr>\n",
       "      <th>9827</th>\n",
       "      <td>To the Hiring Team at NextGen Ltd,\\n\\nHaving f...</td>\n",
       "      <td>job_applicant</td>\n",
       "    </tr>\n",
       "    <tr>\n",
       "      <th>9828</th>\n",
       "      <td>Dear Hiring Manager,\\n\\nI am writing to expres...</td>\n",
       "      <td>job_applicant</td>\n",
       "    </tr>\n",
       "    <tr>\n",
       "      <th>9829</th>\n",
       "      <td>Dear Hiring Manager,\\n\\nI am writing to expres...</td>\n",
       "      <td>job_applicant</td>\n",
       "    </tr>\n",
       "  </tbody>\n",
       "</table>\n",
       "</div>"
      ],
      "text/plain": [
       "                                                   text          label\n",
       "9825  Dear Hiring Manager,\\n\\nI am writing to expres...  job_applicant\n",
       "9826  Dear Hiring Manager,\\n\\nI am writing to expres...  job_applicant\n",
       "9827  To the Hiring Team at NextGen Ltd,\\n\\nHaving f...  job_applicant\n",
       "9828  Dear Hiring Manager,\\n\\nI am writing to expres...  job_applicant\n",
       "9829  Dear Hiring Manager,\\n\\nI am writing to expres...  job_applicant"
      ]
     },
     "execution_count": 4,
     "metadata": {},
     "output_type": "execute_result"
    }
   ],
   "source": [
    "data = pd.read_csv(\"../data/large_email_dataset.csv\")\n",
    "data[ data[\"label\"] == \"job_applicant\"].head()"
   ]
  },
  {
   "cell_type": "code",
   "execution_count": 5,
   "id": "dede9a55-7f45-490c-acfe-021c6b2648a5",
   "metadata": {},
   "outputs": [],
   "source": [
    "train_df , test_df = train_test_split (\n",
    "        data , \n",
    "        test_size = 0.2 , \n",
    "        random_state = 42 , \n",
    "        stratify = data[\"label\"] \n",
    "    )"
   ]
  },
  {
   "cell_type": "code",
   "execution_count": null,
   "id": "bbeb8e34-0b24-46bc-94d6-21eba680aa11",
   "metadata": {},
   "outputs": [],
   "source": []
  },
  {
   "cell_type": "code",
   "execution_count": 6,
   "id": "3e3b0ef0-cea3-429f-8703-0ec25aa6f0ec",
   "metadata": {},
   "outputs": [],
   "source": [
    "class_counts  = train_df[\"label\"].value_counts()"
   ]
  },
  {
   "cell_type": "code",
   "execution_count": 56,
   "id": "2a452312-20c3-46f6-bd1f-762b0a817710",
   "metadata": {},
   "outputs": [
    {
     "data": {
      "image/png": "[encoded data removed]",
      "text/plain": [
       "<Figure size 400x400 with 1 Axes>"
      ]
     },
     "metadata": {},
     "output_type": "display_data"
    }
   ],
   "source": [
    "plt.figure(figsize = (4, 4 ) )\n",
    "sns.countplot( data = train_df ,  x = \"label\" , order = class_counts.index , palette = \"Set2\")\n",
    "plt.show()"
   ]
  },
  {
   "cell_type": "code",
   "execution_count": 16,
   "id": "f15c8b6e-fe4c-4ff2-b934-545f7a4c6baf",
   "metadata": {},
   "outputs": [],
   "source": [
    "import re\n",
    "\n",
    "def tokenizer(text):\n",
    "    text = text.lower()\n",
    "    text = re.sub(r'\\n', ' ', text)\n",
    "    text = re.sub(r',' , ' ' , text)\n",
    "    text = re.sub(r'\\.' , ' ' , text ) \n",
    "    text = re.sub(r'-' , ' ' , text ) \n",
    "    return text\n"
   ]
  },
  {
   "cell_type": "code",
   "execution_count": 17,
   "id": "db7fee12-52f6-466a-a403-8b2e96c94081",
   "metadata": {},
   "outputs": [],
   "source": [
    "train_df[\"clean_text\"] = train_df[\"text\"].apply(tokenizer)"
   ]
  },
  {
   "cell_type": "code",
   "execution_count": 18,
   "id": "6c6c639a-788e-4c91-8893-0082a95c5315",
   "metadata": {},
   "outputs": [],
   "source": [
    "label_mapping = {\n",
    "    \"customer\" : 0 , \n",
    "    \"co_worker\" : 1 ,\n",
    "    \"job_applicant\" : 2\n",
    "}\n",
    "\n",
    "train_df[\"label_encoding\"] = train_df[\"label\"].map(label_mapping)"
   ]
  },
  {
   "cell_type": "code",
   "execution_count": 19,
   "id": "fb3b5da4-ea8f-44d8-86b2-f9ff9198b92e",
   "metadata": {},
   "outputs": [],
   "source": [
    "test_df[\"clean_text\"] = test_df[\"text\"].apply(tokenizer)\n",
    "test_df[\"label_encoding\"]  = test_df[\"label\"].map(label_mapping)"
   ]
  },
  {
   "cell_type": "code",
   "execution_count": 20,
   "id": "97823270-f6d2-436c-b0aa-c299cf10ff10",
   "metadata": {},
   "outputs": [
    {
     "data": {
      "text/html": [
       "<div>\n",
       "<style scoped>\n",
       "    .dataframe tbody tr th:only-of-type {\n",
       "        vertical-align: middle;\n",
       "    }\n",
       "\n",
       "    .dataframe tbody tr th {\n",
       "        vertical-align: top;\n",
       "    }\n",
       "\n",
       "    .dataframe thead th {\n",
       "        text-align: right;\n",
       "    }\n",
       "</style>\n",
       "<table border=\"1\" class=\"dataframe\">\n",
       "  <thead>\n",
       "    <tr style=\"text-align: right;\">\n",
       "      <th></th>\n",
       "      <th>text</th>\n",
       "      <th>label</th>\n",
       "      <th>clean_text</th>\n",
       "      <th>label_encoding</th>\n",
       "    </tr>\n",
       "  </thead>\n",
       "  <tbody>\n",
       "    <tr>\n",
       "      <th>14120</th>\n",
       "      <td>Dear Hiring Manager,\\n\\nMy passion for graphic...</td>\n",
       "      <td>job_applicant</td>\n",
       "      <td>dear hiring manager   my passion for graphic d...</td>\n",
       "      <td>2</td>\n",
       "    </tr>\n",
       "    <tr>\n",
       "      <th>11693</th>\n",
       "      <td>Dear Hiring Manager,\\n\\nI am writing to expres...</td>\n",
       "      <td>job_applicant</td>\n",
       "      <td>dear hiring manager   i am writing to express ...</td>\n",
       "      <td>2</td>\n",
       "    </tr>\n",
       "    <tr>\n",
       "      <th>12831</th>\n",
       "      <td>To the Hiring Team at Solutions Inc,\\n\\nHaving...</td>\n",
       "      <td>job_applicant</td>\n",
       "      <td>to the hiring team at solutions inc   having f...</td>\n",
       "      <td>2</td>\n",
       "    </tr>\n",
       "    <tr>\n",
       "      <th>1209</th>\n",
       "      <td>Hi,\\n\\nI saw X100 Widget on your website. Coul...</td>\n",
       "      <td>customer</td>\n",
       "      <td>hi   i saw x100 widget on your website  could ...</td>\n",
       "      <td>0</td>\n",
       "    </tr>\n",
       "    <tr>\n",
       "      <th>11847</th>\n",
       "      <td>To the Hiring Team at Global Tech,\\n\\nHaving f...</td>\n",
       "      <td>job_applicant</td>\n",
       "      <td>to the hiring team at global tech   having fol...</td>\n",
       "      <td>2</td>\n",
       "    </tr>\n",
       "    <tr>\n",
       "      <th>...</th>\n",
       "      <td>...</td>\n",
       "      <td>...</td>\n",
       "      <td>...</td>\n",
       "      <td>...</td>\n",
       "    </tr>\n",
       "    <tr>\n",
       "      <th>4949</th>\n",
       "      <td>Hello,\\n\\nThe X100 Widget I purchased on 2/12/...</td>\n",
       "      <td>customer</td>\n",
       "      <td>hello   the x100 widget i purchased on 2/12/20...</td>\n",
       "      <td>0</td>\n",
       "    </tr>\n",
       "    <tr>\n",
       "      <th>7327</th>\n",
       "      <td>Hello Taylor,\\n\\nQuick question about the remo...</td>\n",
       "      <td>co_worker</td>\n",
       "      <td>hello taylor   quick question about the remote...</td>\n",
       "      <td>1</td>\n",
       "    </tr>\n",
       "    <tr>\n",
       "      <th>14455</th>\n",
       "      <td>To the Hiring Team at Synergy Systems,\\n\\nHavi...</td>\n",
       "      <td>job_applicant</td>\n",
       "      <td>to the hiring team at synergy systems   having...</td>\n",
       "      <td>2</td>\n",
       "    </tr>\n",
       "    <tr>\n",
       "      <th>6944</th>\n",
       "      <td>Hi all,\\n\\nQuick update on Client Onboarding P...</td>\n",
       "      <td>co_worker</td>\n",
       "      <td>hi all   quick update on client onboarding pro...</td>\n",
       "      <td>1</td>\n",
       "    </tr>\n",
       "    <tr>\n",
       "      <th>10366</th>\n",
       "      <td>To the Hiring Team at Solutions Inc,\\n\\nHaving...</td>\n",
       "      <td>job_applicant</td>\n",
       "      <td>to the hiring team at solutions inc   having f...</td>\n",
       "      <td>2</td>\n",
       "    </tr>\n",
       "  </tbody>\n",
       "</table>\n",
       "<p>2965 rows × 4 columns</p>\n",
       "</div>"
      ],
      "text/plain": [
       "                                                    text          label  \\\n",
       "14120  Dear Hiring Manager,\\n\\nMy passion for graphic...  job_applicant   \n",
       "11693  Dear Hiring Manager,\\n\\nI am writing to expres...  job_applicant   \n",
       "12831  To the Hiring Team at Solutions Inc,\\n\\nHaving...  job_applicant   \n",
       "1209   Hi,\\n\\nI saw X100 Widget on your website. Coul...       customer   \n",
       "11847  To the Hiring Team at Global Tech,\\n\\nHaving f...  job_applicant   \n",
       "...                                                  ...            ...   \n",
       "4949   Hello,\\n\\nThe X100 Widget I purchased on 2/12/...       customer   \n",
       "7327   Hello Taylor,\\n\\nQuick question about the remo...      co_worker   \n",
       "14455  To the Hiring Team at Synergy Systems,\\n\\nHavi...  job_applicant   \n",
       "6944   Hi all,\\n\\nQuick update on Client Onboarding P...      co_worker   \n",
       "10366  To the Hiring Team at Solutions Inc,\\n\\nHaving...  job_applicant   \n",
       "\n",
       "                                              clean_text  label_encoding  \n",
       "14120  dear hiring manager   my passion for graphic d...               2  \n",
       "11693  dear hiring manager   i am writing to express ...               2  \n",
       "12831  to the hiring team at solutions inc   having f...               2  \n",
       "1209   hi   i saw x100 widget on your website  could ...               0  \n",
       "11847  to the hiring team at global tech   having fol...               2  \n",
       "...                                                  ...             ...  \n",
       "4949   hello   the x100 widget i purchased on 2/12/20...               0  \n",
       "7327   hello taylor   quick question about the remote...               1  \n",
       "14455  to the hiring team at synergy systems   having...               2  \n",
       "6944   hi all   quick update on client onboarding pro...               1  \n",
       "10366  to the hiring team at solutions inc   having f...               2  \n",
       "\n",
       "[2965 rows x 4 columns]"
      ]
     },
     "execution_count": 20,
     "metadata": {},
     "output_type": "execute_result"
    }
   ],
   "source": [
    "test_df"
   ]
  },
  {
   "cell_type": "code",
   "execution_count": 21,
   "id": "b8446571-645d-4214-8bcf-8b36bdefc103",
   "metadata": {},
   "outputs": [],
   "source": [
    "X = train_df[\"clean_text\"]\n",
    "y = train_df[\"label\"]"
   ]
  },
  {
   "cell_type": "code",
   "execution_count": 22,
   "id": "24628b87-3d9a-4d25-8dd3-ecf2f4d2ed0e",
   "metadata": {},
   "outputs": [],
   "source": [
    "X_train , X_test , y_train , y_test = train_test_split ( \n",
    "    X , \n",
    "    y , \n",
    "    test_size = 0.3 , \n",
    "    random_state = 42 ,\n",
    "    stratify = y )"
   ]
  },
  {
   "cell_type": "code",
   "execution_count": null,
   "id": "5fb3eb0c-9199-4e11-8d94-fefb499e0285",
   "metadata": {},
   "outputs": [],
   "source": []
  },
  {
   "cell_type": "code",
   "execution_count": 129,
   "id": "b09aa979-4979-4f81-8f5e-13a5c420207c",
   "metadata": {},
   "outputs": [],
   "source": [
    "tfidf_vectorizer = TfidfVectorizer(\n",
    "    max_features = 5 , \n",
    "    ngram_range = ( 1 , 2 ),\n",
    "    stop_words = \"english\"\n",
    ")\n",
    "\n",
    "X_train_tfidf = tfidf_vectorizer.fit_transform(X_train)\n",
    "\n",
    "X_val_tfidf = tfidf_vectorizer.transform(X_test)\n",
    "X_test_tfidf = tfidf_vectorizer.transform(test_df[\"clean_text\"])\n",
    "\n"
   ]
  },
  {
   "cell_type": "code",
   "execution_count": 130,
   "id": "627e3302-a98f-4034-9fda-e4923638b5a7",
   "metadata": {},
   "outputs": [
    {
     "name": "stdout",
     "output_type": "stream",
     "text": [
      "LogisticRegression Score is  85.30 %\n",
      "naive bayes score is         68.47 %\n"
     ]
    }
   ],
   "source": [
    "from sklearn.naive_bayes import MultinomialNB\n",
    "\n",
    "\n",
    "model = LogisticRegression(max_iter=1000 , verbose = 2)\n",
    "model.fit(X_train_tfidf, y_train)\n",
    "logistic_score = model.score(X_val_tfidf , y_test)\n",
    "\n",
    "model_1 = MultinomialNB( )\n",
    "model_1.fit(X_train_tfidf , y_train)\n",
    "naive_score = model_1.score(X_val_tfidf , y_test)\n",
    "\n",
    "print (f\"LogisticRegression Score is {logistic_score * 100: .2f} %\")\n",
    "print (f\"naive bayes score is        {naive_score * 100: .2f} %\") "
   ]
  },
  {
   "cell_type": "code",
   "execution_count": 131,
   "id": "65ca77ce-3065-483d-ad55-18b01ef084f1",
   "metadata": {},
   "outputs": [],
   "source": [
    "y_pred = model.predict(X_val_tfidf)\n"
   ]
  },
  {
   "cell_type": "code",
   "execution_count": 132,
   "id": "dd4cc797-a08e-4c04-a9ce-155c74965f0f",
   "metadata": {},
   "outputs": [],
   "source": [
    "def predict(text):\n",
    "    text = tokenizer(text)\n",
    "    text_idf = tfidf_vectorizer.transform([text])\n",
    "    return model.predict(text_idf)"
   ]
  },
  {
   "cell_type": "code",
   "execution_count": 133,
   "id": "2eee2432-209f-48c3-adf8-648ebc6eaf53",
   "metadata": {},
   "outputs": [
    {
     "data": {
      "text/plain": [
       "'job_applicant'"
      ]
     },
     "execution_count": 133,
     "metadata": {},
     "output_type": "execute_result"
    }
   ],
   "source": [
    "text = \"\"\"\n",
    "    Dear Hiring Manager\n",
    "    name is abdelmoughit EL Ouaad , I am a student at FSTM\n",
    "    i want to express my interest for data science postion\n",
    "\"\"\"\n",
    "predict(text)[0]"
   ]
  },
  {
   "cell_type": "code",
   "execution_count": 134,
   "id": "afc036ab-9f8f-4593-af88-024cb9ef0746",
   "metadata": {},
   "outputs": [
    {
     "data": {
      "text/plain": [
       "'job_applicant'"
      ]
     },
     "execution_count": 134,
     "metadata": {},
     "output_type": "execute_result"
    }
   ],
   "source": [
    "text = \"\"\"\n",
    "    Dear Hiring Manager\n",
    "    name is abdelmoughit EL Ouaad , I am a student a FSTM\n",
    "    i want to express my interest for data science postion\n",
    "    project project project\n",
    "\"\"\"\n",
    "predict(text)[0]"
   ]
  },
  {
   "cell_type": "code",
   "execution_count": 135,
   "id": "b36924a5-5e1f-44bb-8f6a-87ef18eb87d9",
   "metadata": {},
   "outputs": [
    {
     "data": {
      "text/plain": [
       "<Figure size 300x300 with 0 Axes>"
      ]
     },
     "metadata": {},
     "output_type": "display_data"
    },
    {
     "data": {
      "image/png": "[encoded data removed]",
      "text/plain": [
       "<Figure size 640x480 with 2 Axes>"
      ]
     },
     "metadata": {},
     "output_type": "display_data"
    }
   ],
   "source": [
    "cm = confusion_matrix (y_test , y_pred , labels = model.classes_ )\n",
    "disp = ConfusionMatrixDisplay(confusion_matrix=cm, display_labels=model.classes_)\n",
    "plt.figure(figsize = (3 , 3))\n",
    "disp.plot(cmap=\"Blues\")\n",
    "plt.title(\"Confusion Matrix\")\n",
    "plt.show()\n"
   ]
  },
  {
   "cell_type": "code",
   "execution_count": 136,
   "id": "89fc6423-f3ca-462b-88a6-176350ec5508",
   "metadata": {},
   "outputs": [
    {
     "name": "stdout",
     "output_type": "stream",
     "text": [
      "               precision    recall  f1-score   support\n",
      "\n",
      "    co_worker       0.69      1.00      0.82      1158\n",
      "     customer       1.00      0.56      0.72      1200\n",
      "job_applicant       1.00      1.00      1.00      1200\n",
      "\n",
      "     accuracy                           0.85      3558\n",
      "    macro avg       0.90      0.85      0.85      3558\n",
      " weighted avg       0.90      0.85      0.85      3558\n",
      "\n"
     ]
    }
   ],
   "source": [
    "from sklearn.metrics import classification_report\n",
    "print(classification_report(y_test, y_pred))\n"
   ]
  },
  {
   "cell_type": "code",
   "execution_count": 137,
   "id": "3f1697c5-b99d-4e0e-b6f4-0052a7802e13",
   "metadata": {},
   "outputs": [],
   "source": [
    "model = model_1 "
   ]
  },
  {
   "cell_type": "code",
   "execution_count": 138,
   "id": "b3c82d68-3865-4d81-b223-e8a1a4c060fd",
   "metadata": {},
   "outputs": [
    {
     "data": {
      "image/png": "[encoded data removed]",
      "text/plain": [
       "<Figure size 640x480 with 1 Axes>"
      ]
     },
     "metadata": {},
     "output_type": "display_data"
    }
   ],
   "source": [
    "from sklearn.preprocessing import label_binarize\n",
    "from sklearn.metrics import roc_curve, auc\n",
    "import matplotlib.pyplot as plt\n",
    "from sklearn.multiclass import OneVsRestClassifier\n",
    "import numpy as np\n",
    "\n",
    "# Binarize the output labels\n",
    "classes = model.classes_  # or list of class labels: ['A', 'B', 'C']\n",
    "y_test_bin = label_binarize(y_test, classes=classes)\n",
    "y_score = model.predict_proba(X_val_tfidf)\n",
    "\n",
    "# Compute ROC curve and AUC for each class\n",
    "fpr = dict()\n",
    "tpr = dict()\n",
    "roc_auc = dict()\n",
    "for i in range(len(classes)):\n",
    "    fpr[i], tpr[i], _ = roc_curve(y_test_bin[:, i], y_score[:, i])\n",
    "    roc_auc[i] = auc(fpr[i], tpr[i])\n",
    "\n",
    "# Plot all ROC curves\n",
    "plt.figure()\n",
    "for i in range(len(classes)):\n",
    "    plt.plot(fpr[i], tpr[i], label=f\"Class {classes[i]} (AUC = {roc_auc[i]:.2f})\")\n",
    "\n",
    "plt.plot([0, 1], [0, 1], 'k--')  # Diagonal line\n",
    "plt.xlabel('False Positive Rate')\n",
    "plt.ylabel('True Positive Rate')\n",
    "plt.title('Multi-Class ROC Curve')\n",
    "plt.legend(loc=\"lower right\")\n",
    "plt.grid()\n",
    "plt.show()\n"
   ]
  },
  {
   "cell_type": "code",
   "execution_count": null,
   "id": "e9d553ee-2199-43e0-843b-e55a7ee35325",
   "metadata": {},
   "outputs": [],
   "source": []
  },
  {
   "cell_type": "code",
   "execution_count": null,
   "id": "436aa347-b31d-4f7c-b073-8687aa4bc7b6",
   "metadata": {},
   "outputs": [],
   "source": []
  }
 ],
 "metadata": {
  "kernelspec": {
   "display_name": "nlp_vr_env",
   "language": "python",
   "name": "myenv"
  },
  "language_info": {
   "codemirror_mode": {
    "name": "ipython",
    "version": 3
   },
   "file_extension": ".py",
   "mimetype": "text/x-python",
   "name": "python",
   "nbconvert_exporter": "python",
   "pygments_lexer": "ipython3",
   "version": "3.10.0"
  }
 },
 "nbformat": 4,
 "nbformat_minor": 5
}
