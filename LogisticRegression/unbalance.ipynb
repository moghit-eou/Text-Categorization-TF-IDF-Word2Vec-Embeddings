{
 "cells": [
  {
   "cell_type": "code",
   "execution_count": 1,
   "id": "cfdc6ab9-3891-4045-b00e-0d71005e4d1d",
   "metadata": {},
   "outputs": [],
   "source": [
    "import warnings\n",
    "import pandas as pd\n",
    "import re\n",
    "from sklearn.model_selection import train_test_split\n",
    "import matplotlib.pyplot as plt\n",
    "import seaborn as sns\n",
    "from sklearn.feature_extraction.text import TfidfVectorizer\n",
    "from sklearn.linear_model import LogisticRegression\n",
    "from sklearn.metrics import classification_report, accuracy_score\n",
    "from sklearn.linear_model import LogisticRegression\n",
    "from sklearn.metrics import classification_report, accuracy_score\n",
    "from sklearn.metrics import confusion_matrix, ConfusionMatrixDisplay\n",
    "import numpy as np\n",
    "\n",
    "warnings.filterwarnings(\"ignore\")"
   ]
  },
  {
   "cell_type": "code",
   "execution_count": 2,
   "id": "d1dea25e-8908-4ae2-871d-76238990ef06",
   "metadata": {},
   "outputs": [],
   "source": [
    "data = pd.read_csv(\"../word2vec/correct_false.csv\")\n"
   ]
  },
  {
   "cell_type": "code",
   "execution_count": 3,
   "id": "dede9a55-7f45-490c-acfe-021c6b2648a5",
   "metadata": {},
   "outputs": [],
   "source": [
    "train_df , test_df = train_test_split (\n",
    "        data , \n",
    "        test_size = 0.2 , \n",
    "        random_state = 42 , \n",
    "        stratify = data[\"label\"] \n",
    "    )"
   ]
  },
  {
   "cell_type": "code",
   "execution_count": null,
   "id": "bbeb8e34-0b24-46bc-94d6-21eba680aa11",
   "metadata": {},
   "outputs": [],
   "source": []
  },
  {
   "cell_type": "code",
   "execution_count": 4,
   "id": "3e3b0ef0-cea3-429f-8703-0ec25aa6f0ec",
   "metadata": {},
   "outputs": [],
   "source": [
    "class_counts  = train_df[\"label\"].value_counts()"
   ]
  },
  {
   "cell_type": "code",
   "execution_count": 5,
   "id": "2a452312-20c3-46f6-bd1f-762b0a817710",
   "metadata": {},
   "outputs": [
    {
     "data": {
      "image/png": "[encoded data removed]",
      "text/plain": [
       "<Figure size 1000x500 with 1 Axes>"
      ]
     },
     "metadata": {},
     "output_type": "display_data"
    }
   ],
   "source": [
    "plt.figure(figsize = (10 , 5 ) )\n",
    "sns.countplot( data = train_df ,  x = \"label\" , order = class_counts.index , palette = \"Set2\")\n",
    "plt.show()"
   ]
  },
  {
   "cell_type": "code",
   "execution_count": 6,
   "id": "f15c8b6e-fe4c-4ff2-b934-545f7a4c6baf",
   "metadata": {},
   "outputs": [],
   "source": [
    "import re\n",
    "\n",
    "def tokenizer(text):\n",
    "    text = text.lower()\n",
    "    text = re.sub(r'\\n', ' ', text)\n",
    "    text = re.sub(r',' , ' ' , text)\n",
    "    text = re.sub(r'\\.' , ' ' , text ) \n",
    "    text = re.sub(r'-' , ' ' , text ) \n",
    "    return text\n"
   ]
  },
  {
   "cell_type": "code",
   "execution_count": 8,
   "id": "db7fee12-52f6-466a-a403-8b2e96c94081",
   "metadata": {},
   "outputs": [],
   "source": [
    "train_df[\"clean_text\"] = train_df[\"email_body\"].apply(tokenizer)"
   ]
  },
  {
   "cell_type": "code",
   "execution_count": 9,
   "id": "6c6c639a-788e-4c91-8893-0082a95c5315",
   "metadata": {},
   "outputs": [],
   "source": [
    "label_mapping = {\n",
    "    \"customer\" : 0 , \n",
    "    \"co_worker\" : 1 ,\n",
    "    \"job_applicant\" : 2\n",
    "}\n",
    "\n",
    "train_df[\"label_encoding\"] = train_df[\"label\"].map(label_mapping)"
   ]
  },
  {
   "cell_type": "code",
   "execution_count": 11,
   "id": "fb3b5da4-ea8f-44d8-86b2-f9ff9198b92e",
   "metadata": {},
   "outputs": [],
   "source": [
    "test_df[\"clean_text\"] = test_df[\"email_body\"].apply(tokenizer)\n",
    "test_df[\"label_encoding\"]  = test_df[\"label\"].map(label_mapping)"
   ]
  },
  {
   "cell_type": "code",
   "execution_count": 12,
   "id": "97823270-f6d2-436c-b0aa-c299cf10ff10",
   "metadata": {},
   "outputs": [
    {
     "data": {
      "text/html": [
       "<div>\n",
       "<style scoped>\n",
       "    .dataframe tbody tr th:only-of-type {\n",
       "        vertical-align: middle;\n",
       "    }\n",
       "\n",
       "    .dataframe tbody tr th {\n",
       "        vertical-align: top;\n",
       "    }\n",
       "\n",
       "    .dataframe thead th {\n",
       "        text-align: right;\n",
       "    }\n",
       "</style>\n",
       "<table border=\"1\" class=\"dataframe\">\n",
       "  <thead>\n",
       "    <tr style=\"text-align: right;\">\n",
       "      <th></th>\n",
       "      <th>email_body</th>\n",
       "      <th>label</th>\n",
       "      <th>clean_text</th>\n",
       "      <th>label_encoding</th>\n",
       "    </tr>\n",
       "  </thead>\n",
       "  <tbody>\n",
       "    <tr>\n",
       "      <th>17494</th>\n",
       "      <td>Good morning William,\\n\\nI hope this email fin...</td>\n",
       "      <td>customer</td>\n",
       "      <td>good morning william   i hope this email finds...</td>\n",
       "      <td>0</td>\n",
       "    </tr>\n",
       "    <tr>\n",
       "      <th>10100</th>\n",
       "      <td>Hi Amanda,\\n\\nThank you for your continued par...</td>\n",
       "      <td>customer</td>\n",
       "      <td>hi amanda   thank you for your continued partn...</td>\n",
       "      <td>0</td>\n",
       "    </tr>\n",
       "    <tr>\n",
       "      <th>28311</th>\n",
       "      <td>Good afternoon Paul,\\n\\nRegarding our discussi...</td>\n",
       "      <td>co_worker</td>\n",
       "      <td>good afternoon paul   regarding our discussion...</td>\n",
       "      <td>1</td>\n",
       "    </tr>\n",
       "    <tr>\n",
       "      <th>29942</th>\n",
       "      <td>Hi team,\\n\\nQuick question about...\\n\\nJust a ...</td>\n",
       "      <td>co_worker</td>\n",
       "      <td>hi team   quick question about     just a quic...</td>\n",
       "      <td>1</td>\n",
       "    </tr>\n",
       "    <tr>\n",
       "      <th>10814</th>\n",
       "      <td>Good morning Joseph,\\n\\nI hope this email find...</td>\n",
       "      <td>customer</td>\n",
       "      <td>good morning joseph   i hope this email finds ...</td>\n",
       "      <td>0</td>\n",
       "    </tr>\n",
       "    <tr>\n",
       "      <th>...</th>\n",
       "      <td>...</td>\n",
       "      <td>...</td>\n",
       "      <td>...</td>\n",
       "      <td>...</td>\n",
       "    </tr>\n",
       "    <tr>\n",
       "      <th>25618</th>\n",
       "      <td>Hello Riley,\\n\\nRegarding our discussion earli...</td>\n",
       "      <td>co_worker</td>\n",
       "      <td>hello riley   regarding our discussion earlier...</td>\n",
       "      <td>1</td>\n",
       "    </tr>\n",
       "    <tr>\n",
       "      <th>1437</th>\n",
       "      <td>Good morning,\\n\\nWith 11 years of experience i...</td>\n",
       "      <td>job_applicant</td>\n",
       "      <td>good morning   with 11 years of experience in ...</td>\n",
       "      <td>2</td>\n",
       "    </tr>\n",
       "    <tr>\n",
       "      <th>9570</th>\n",
       "      <td>I am a highly motivated software developer see...</td>\n",
       "      <td>job_applicant</td>\n",
       "      <td>i am a highly motivated software developer see...</td>\n",
       "      <td>2</td>\n",
       "    </tr>\n",
       "    <tr>\n",
       "      <th>2291</th>\n",
       "      <td>Hi there,\\n\\nMy colleague, Dr. Evelyn Reed, su...</td>\n",
       "      <td>job_applicant</td>\n",
       "      <td>hi there   my colleague  dr  evelyn reed  sugg...</td>\n",
       "      <td>2</td>\n",
       "    </tr>\n",
       "    <tr>\n",
       "      <th>16334</th>\n",
       "      <td>To whom it may concern,\\n\\nI'm following up on...</td>\n",
       "      <td>customer</td>\n",
       "      <td>to whom it may concern   i'm following up on o...</td>\n",
       "      <td>0</td>\n",
       "    </tr>\n",
       "  </tbody>\n",
       "</table>\n",
       "<p>6121 rows × 4 columns</p>\n",
       "</div>"
      ],
      "text/plain": [
       "                                              email_body          label  \\\n",
       "17494  Good morning William,\\n\\nI hope this email fin...       customer   \n",
       "10100  Hi Amanda,\\n\\nThank you for your continued par...       customer   \n",
       "28311  Good afternoon Paul,\\n\\nRegarding our discussi...      co_worker   \n",
       "29942  Hi team,\\n\\nQuick question about...\\n\\nJust a ...      co_worker   \n",
       "10814  Good morning Joseph,\\n\\nI hope this email find...       customer   \n",
       "...                                                  ...            ...   \n",
       "25618  Hello Riley,\\n\\nRegarding our discussion earli...      co_worker   \n",
       "1437   Good morning,\\n\\nWith 11 years of experience i...  job_applicant   \n",
       "9570   I am a highly motivated software developer see...  job_applicant   \n",
       "2291   Hi there,\\n\\nMy colleague, Dr. Evelyn Reed, su...  job_applicant   \n",
       "16334  To whom it may concern,\\n\\nI'm following up on...       customer   \n",
       "\n",
       "                                              clean_text  label_encoding  \n",
       "17494  good morning william   i hope this email finds...               0  \n",
       "10100  hi amanda   thank you for your continued partn...               0  \n",
       "28311  good afternoon paul   regarding our discussion...               1  \n",
       "29942  hi team   quick question about     just a quic...               1  \n",
       "10814  good morning joseph   i hope this email finds ...               0  \n",
       "...                                                  ...             ...  \n",
       "25618  hello riley   regarding our discussion earlier...               1  \n",
       "1437   good morning   with 11 years of experience in ...               2  \n",
       "9570   i am a highly motivated software developer see...               2  \n",
       "2291   hi there   my colleague  dr  evelyn reed  sugg...               2  \n",
       "16334  to whom it may concern   i'm following up on o...               0  \n",
       "\n",
       "[6121 rows x 4 columns]"
      ]
     },
     "execution_count": 12,
     "metadata": {},
     "output_type": "execute_result"
    }
   ],
   "source": [
    "test_df"
   ]
  },
  {
   "cell_type": "code",
   "execution_count": 13,
   "id": "b8446571-645d-4214-8bcf-8b36bdefc103",
   "metadata": {},
   "outputs": [],
   "source": [
    "X = train_df[\"clean_text\"]\n",
    "y = train_df[\"label\"]"
   ]
  },
  {
   "cell_type": "code",
   "execution_count": 14,
   "id": "24628b87-3d9a-4d25-8dd3-ecf2f4d2ed0e",
   "metadata": {},
   "outputs": [],
   "source": [
    "X_train , X_test , y_train , y_test = train_test_split ( \n",
    "    X , \n",
    "    y , \n",
    "    test_size = 0.2 , \n",
    "    random_state = 42 ,\n",
    "    stratify = y )"
   ]
  },
  {
   "cell_type": "code",
   "execution_count": null,
   "id": "5fb3eb0c-9199-4e11-8d94-fefb499e0285",
   "metadata": {},
   "outputs": [],
   "source": []
  },
  {
   "cell_type": "code",
   "execution_count": 15,
   "id": "b09aa979-4979-4f81-8f5e-13a5c420207c",
   "metadata": {},
   "outputs": [],
   "source": [
    "tfidf_vectorizer = TfidfVectorizer(\n",
    "    max_features = 15 , \n",
    "    ngram_range = ( 1 , 2 ),\n",
    "    stop_words = \"english\"\n",
    ")\n",
    "\n",
    "X_train_tfidf = tfidf_vectorizer.fit_transform(X_train)\n",
    "\n",
    "X_val_tfidf = tfidf_vectorizer.transform(X_test)\n",
    "X_test_tfidf = tfidf_vectorizer.transform(test_df[\"clean_text\"])\n",
    "\n"
   ]
  },
  {
   "cell_type": "code",
   "execution_count": 16,
   "id": "28639a3b-8dbb-4eee-8530-66db19c5766d",
   "metadata": {},
   "outputs": [
    {
     "data": {
      "text/html": [
       "<div>\n",
       "<style scoped>\n",
       "    .dataframe tbody tr th:only-of-type {\n",
       "        vertical-align: middle;\n",
       "    }\n",
       "\n",
       "    .dataframe tbody tr th {\n",
       "        vertical-align: top;\n",
       "    }\n",
       "\n",
       "    .dataframe thead th {\n",
       "        text-align: right;\n",
       "    }\n",
       "</style>\n",
       "<table border=\"1\" class=\"dataframe\">\n",
       "  <thead>\n",
       "    <tr style=\"text-align: right;\">\n",
       "      <th></th>\n",
       "      <th>email_body</th>\n",
       "      <th>label</th>\n",
       "      <th>clean_text</th>\n",
       "      <th>label_encoding</th>\n",
       "    </tr>\n",
       "  </thead>\n",
       "  <tbody>\n",
       "    <tr>\n",
       "      <th>18560</th>\n",
       "      <td>Hello Olivia,\\n\\nI'm writing regarding our sub...</td>\n",
       "      <td>customer</td>\n",
       "      <td>hello olivia   i'm writing regarding our subsc...</td>\n",
       "      <td>0</td>\n",
       "    </tr>\n",
       "    <tr>\n",
       "      <th>13798</th>\n",
       "      <td>Greetings,\\n\\nI hope this email finds you well...</td>\n",
       "      <td>customer</td>\n",
       "      <td>greetings   i hope this email finds you well  ...</td>\n",
       "      <td>0</td>\n",
       "    </tr>\n",
       "    <tr>\n",
       "      <th>12494</th>\n",
       "      <td>Hello Vertex Enterprises support,\\n\\nI trust y...</td>\n",
       "      <td>customer</td>\n",
       "      <td>hello vertex enterprises support   i trust you...</td>\n",
       "      <td>0</td>\n",
       "    </tr>\n",
       "    <tr>\n",
       "      <th>18624</th>\n",
       "      <td>Dear valued client,\\n\\nThank you for your inqu...</td>\n",
       "      <td>customer</td>\n",
       "      <td>dear valued client   thank you for your inquir...</td>\n",
       "      <td>0</td>\n",
       "    </tr>\n",
       "    <tr>\n",
       "      <th>16023</th>\n",
       "      <td>Good morning James,\\n\\nI trust you're having a...</td>\n",
       "      <td>customer</td>\n",
       "      <td>good morning james   i trust you're having a p...</td>\n",
       "      <td>0</td>\n",
       "    </tr>\n",
       "    <tr>\n",
       "      <th>...</th>\n",
       "      <td>...</td>\n",
       "      <td>...</td>\n",
       "      <td>...</td>\n",
       "      <td>...</td>\n",
       "    </tr>\n",
       "    <tr>\n",
       "      <th>12869</th>\n",
       "      <td>Hi Riley,\\n\\nThank you for sharing your future...</td>\n",
       "      <td>customer</td>\n",
       "      <td>hi riley   thank you for sharing your future p...</td>\n",
       "      <td>0</td>\n",
       "    </tr>\n",
       "    <tr>\n",
       "      <th>19414</th>\n",
       "      <td>Good afternoon Noah,\\n\\nThank you for your con...</td>\n",
       "      <td>customer</td>\n",
       "      <td>good afternoon noah   thank you for your conti...</td>\n",
       "      <td>0</td>\n",
       "    </tr>\n",
       "    <tr>\n",
       "      <th>10276</th>\n",
       "      <td>Greetings,\\n\\nI'm writing regarding our accoun...</td>\n",
       "      <td>customer</td>\n",
       "      <td>greetings   i'm writing regarding our account ...</td>\n",
       "      <td>0</td>\n",
       "    </tr>\n",
       "    <tr>\n",
       "      <th>15475</th>\n",
       "      <td>Greetings from the GlobalServe team,\\n\\nThank ...</td>\n",
       "      <td>customer</td>\n",
       "      <td>greetings from the globalserve team   thank yo...</td>\n",
       "      <td>0</td>\n",
       "    </tr>\n",
       "    <tr>\n",
       "      <th>17510</th>\n",
       "      <td>To whom it may concern,\\n\\nI need to report a ...</td>\n",
       "      <td>customer</td>\n",
       "      <td>to whom it may concern   i need to report a pe...</td>\n",
       "      <td>0</td>\n",
       "    </tr>\n",
       "  </tbody>\n",
       "</table>\n",
       "<p>8160 rows × 4 columns</p>\n",
       "</div>"
      ],
      "text/plain": [
       "                                              email_body     label  \\\n",
       "18560  Hello Olivia,\\n\\nI'm writing regarding our sub...  customer   \n",
       "13798  Greetings,\\n\\nI hope this email finds you well...  customer   \n",
       "12494  Hello Vertex Enterprises support,\\n\\nI trust y...  customer   \n",
       "18624  Dear valued client,\\n\\nThank you for your inqu...  customer   \n",
       "16023  Good morning James,\\n\\nI trust you're having a...  customer   \n",
       "...                                                  ...       ...   \n",
       "12869  Hi Riley,\\n\\nThank you for sharing your future...  customer   \n",
       "19414  Good afternoon Noah,\\n\\nThank you for your con...  customer   \n",
       "10276  Greetings,\\n\\nI'm writing regarding our accoun...  customer   \n",
       "15475  Greetings from the GlobalServe team,\\n\\nThank ...  customer   \n",
       "17510  To whom it may concern,\\n\\nI need to report a ...  customer   \n",
       "\n",
       "                                              clean_text  label_encoding  \n",
       "18560  hello olivia   i'm writing regarding our subsc...               0  \n",
       "13798  greetings   i hope this email finds you well  ...               0  \n",
       "12494  hello vertex enterprises support   i trust you...               0  \n",
       "18624  dear valued client   thank you for your inquir...               0  \n",
       "16023  good morning james   i trust you're having a p...               0  \n",
       "...                                                  ...             ...  \n",
       "12869  hi riley   thank you for sharing your future p...               0  \n",
       "19414  good afternoon noah   thank you for your conti...               0  \n",
       "10276  greetings   i'm writing regarding our account ...               0  \n",
       "15475  greetings from the globalserve team   thank yo...               0  \n",
       "17510  to whom it may concern   i need to report a pe...               0  \n",
       "\n",
       "[8160 rows x 4 columns]"
      ]
     },
     "execution_count": 16,
     "metadata": {},
     "output_type": "execute_result"
    }
   ],
   "source": [
    "train_df[ train_df[\"label\"] == \"customer\" ]"
   ]
  },
  {
   "cell_type": "code",
   "execution_count": 17,
   "id": "627e3302-a98f-4034-9fda-e4923638b5a7",
   "metadata": {},
   "outputs": [
    {
     "name": "stdout",
     "output_type": "stream",
     "text": [
      "LogisticRegression Score is  85.64 %\n",
      "\n",
      "naive bayes score        is  77.59 %\n"
     ]
    }
   ],
   "source": [
    "from sklearn.naive_bayes import MultinomialNB\n",
    "\n",
    "\n",
    "model = LogisticRegression(max_iter=1000 , verbose = 2)\n",
    "model.fit(X_train_tfidf, y_train)\n",
    "logistic_score = model.score(X_val_tfidf , y_test)\n",
    "\n",
    "model_1 = MultinomialNB( )\n",
    "model_1.fit(X_train_tfidf , y_train)\n",
    "naive_score = model_1.score(X_val_tfidf , y_test)\n",
    "\n",
    "print (f\"LogisticRegression Score is {logistic_score * 100: .2f} %\")\n",
    "print()\n",
    "print (f\"naive bayes score        is {naive_score * 100: .2f} %\") "
   ]
  },
  {
   "cell_type": "code",
   "execution_count": 18,
   "id": "65ca77ce-3065-483d-ad55-18b01ef084f1",
   "metadata": {},
   "outputs": [],
   "source": [
    "y_pred = model.predict(X_val_tfidf)\n"
   ]
  },
  {
   "cell_type": "code",
   "execution_count": 19,
   "id": "5d80d83b-6f15-4973-8cac-4f342459726b",
   "metadata": {},
   "outputs": [
    {
     "data": {
      "text/plain": [
       "['model.pkl']"
      ]
     },
     "execution_count": 19,
     "metadata": {},
     "output_type": "execute_result"
    }
   ],
   "source": [
    "# Saving the models and the vectorizer\n",
    "import joblib\n",
    "joblib.dump(tfidf_vectorizer, \"tfidf_vectorizer.pkl\")\n",
    "\n",
    "# Save your trained model (e.g., a classifier)\n",
    "joblib.dump(model, \"model.pkl\")"
   ]
  },
  {
   "cell_type": "code",
   "execution_count": null,
   "id": "376e12e5-0d05-408b-b81a-9fa9fd109305",
   "metadata": {},
   "outputs": [],
   "source": []
  },
  {
   "cell_type": "code",
   "execution_count": 20,
   "id": "ecb4fbf9-a7da-4886-aa21-27d00c3dd987",
   "metadata": {},
   "outputs": [],
   "source": [
    "import re\n",
    "import joblib\n",
    "def predict_(text):\n",
    "    \n",
    "    def tokenizer(text):\n",
    "        text = text.lower()\n",
    "        text = re.sub(r'\\n', ' ', text)\n",
    "        text = re.sub(r',' , ' ' , text)\n",
    "        text = re.sub(r'\\.' , ' ' , text ) \n",
    "        text = re.sub(r'-' , ' ' , text ) \n",
    "        return text\n",
    "    \n",
    "    loaded_vectorizer = joblib.load(\"tfidf_vectorizer.pkl\")\n",
    "    loaded_model = joblib.load(\"model.pkl\")\n",
    "    \n",
    "    text = tokenizer(text)\n",
    "    text_idf = loaded_vectorizer.transform([text])\n",
    "    prediction = loaded_model.predict(text_idf)\n",
    "\n",
    "    return prediction\n",
    "    \n",
    "\n"
   ]
  },
  {
   "cell_type": "code",
   "execution_count": 21,
   "id": "5360c9e5-ca48-4ab1-8208-e14571e8c27c",
   "metadata": {},
   "outputs": [
    {
     "ename": "NameError",
     "evalue": "name 'text' is not defined",
     "output_type": "error",
     "traceback": [
      "\u001b[1;31m---------------------------------------------------------------------------\u001b[0m",
      "\u001b[1;31mNameError\u001b[0m                                 Traceback (most recent call last)",
      "Cell \u001b[1;32mIn[21], line 1\u001b[0m\n\u001b[1;32m----> 1\u001b[0m predict_(\u001b[43mtext\u001b[49m)\n",
      "\u001b[1;31mNameError\u001b[0m: name 'text' is not defined"
     ]
    }
   ],
   "source": [
    "predict_(text)"
   ]
  },
  {
   "cell_type": "code",
   "execution_count": 58,
   "id": "dd4cc797-a08e-4c04-a9ce-155c74965f0f",
   "metadata": {},
   "outputs": [],
   "source": [
    "def predict(text):\n",
    "    text = tokenizer(text)\n",
    "    text_idf = tfidf_vectorizer.transform([text])\n",
    "    return model.predict(text_idf)"
   ]
  },
  {
   "cell_type": "code",
   "execution_count": 26,
   "id": "2eee2432-209f-48c3-adf8-648ebc6eaf53",
   "metadata": {},
   "outputs": [
    {
     "name": "stdout",
     "output_type": "stream",
     "text": [
      " the class predicted is   \"job_applicant\"\n"
     ]
    }
   ],
   "source": [
    "text = \"\"\"\n",
    "    Dear Hiring Manager\n",
    "    name is abdelmoughit EL Ouaad , I am a student a FSTM\n",
    "    i want to express my interest for data science postion\n",
    "\"\"\"\n",
    "word_predicted = predict(text)[0]\n",
    "print(f\" the class predicted is   \\\"{word_predicted}\\\"\")"
   ]
  },
  {
   "cell_type": "code",
   "execution_count": 27,
   "id": "afc036ab-9f8f-4593-af88-024cb9ef0746",
   "metadata": {},
   "outputs": [
    {
     "name": "stdout",
     "output_type": "stream",
     "text": [
      " the class predicted is   \"job_applicant\"\n"
     ]
    }
   ],
   "source": [
    "text = \"\"\"\n",
    "    Dear Hiring Manager\n",
    "    name is abdelmoughit EL Ouaad , I am a student a FSTM\n",
    "    i want to express my interest for data science postion\n",
    "    project project project\n",
    "\"\"\"\n",
    "word_predicted = predict(text)[0]\n",
    "print(f\" the class predicted is   \\\"{word_predicted}\\\"\")"
   ]
  },
  {
   "cell_type": "code",
   "execution_count": 22,
   "id": "89fc6423-f3ca-462b-88a6-176350ec5508",
   "metadata": {},
   "outputs": [
    {
     "data": {
      "image/png": "[encoded data removed]",
      "text/plain": [
       "<Figure size 640x480 with 2 Axes>"
      ]
     },
     "metadata": {},
     "output_type": "display_data"
    }
   ],
   "source": [
    "cm = confusion_matrix (y_test , y_pred , labels = model.classes_ )\n",
    "disp = ConfusionMatrixDisplay(confusion_matrix=cm, display_labels=model.classes_)\n",
    "disp.plot(cmap=\"Blues\")\n",
    "plt.title(\"Confusion Matrix\")\n",
    "plt.show()\n",
    "\n"
   ]
  },
  {
   "cell_type": "code",
   "execution_count": 23,
   "id": "3f1697c5-b99d-4e0e-b6f4-0052a7802e13",
   "metadata": {},
   "outputs": [
    {
     "name": "stdout",
     "output_type": "stream",
     "text": [
      "               precision    recall  f1-score   support\n",
      "\n",
      "    co_worker       0.85      0.90      0.87      1632\n",
      "     customer       0.92      0.84      0.88      1632\n",
      "job_applicant       0.81      0.83      0.82      1632\n",
      "\n",
      "     accuracy                           0.86      4896\n",
      "    macro avg       0.86      0.86      0.86      4896\n",
      " weighted avg       0.86      0.86      0.86      4896\n",
      "\n"
     ]
    }
   ],
   "source": [
    "from sklearn.metrics import classification_report\n",
    "print(classification_report(y_test, y_pred))\n"
   ]
  },
  {
   "cell_type": "code",
   "execution_count": null,
   "id": "df88446f-dcf2-4972-b56c-2b89caf08726",
   "metadata": {},
   "outputs": [],
   "source": []
  },
  {
   "cell_type": "code",
   "execution_count": 24,
   "id": "3a540a6c-04b8-470c-96e3-653171e96f77",
   "metadata": {},
   "outputs": [
    {
     "data": {
      "image/png": "[encoded data removed]",
      "text/plain": [
       "<Figure size 640x480 with 1 Axes>"
      ]
     },
     "metadata": {},
     "output_type": "display_data"
    }
   ],
   "source": [
    "from sklearn.preprocessing import label_binarize\n",
    "from sklearn.metrics import roc_curve, auc\n",
    "import matplotlib.pyplot as plt\n",
    "from sklearn.multiclass import OneVsRestClassifier\n",
    "import numpy as np\n",
    "\n",
    "classes = model.classes_  \n",
    "y_test_bin = label_binarize(y_test, classes=classes)\n",
    "y_score = model.predict_proba(X_val_tfidf)\n",
    "\n",
    "# Compute ROC curve and AUC for each class\n",
    "fpr = dict()\n",
    "tpr = dict()\n",
    "roc_auc = dict()\n",
    "for i in range(len(classes)):\n",
    "    fpr[i], tpr[i], _ = roc_curve(y_test_bin[:, i], y_score[:, i])\n",
    "    roc_auc[i] = auc(fpr[i], tpr[i])\n",
    "\n",
    "# Plot all ROC curves\n",
    "plt.figure()\n",
    "for i in range(len(classes)):\n",
    "    plt.plot(fpr[i], tpr[i], label=f\"Class {classes[i]} (AUC = {roc_auc[i]:.2f})\")\n",
    "\n",
    "plt.plot([0, 1], [0, 1], 'k--')  # Diagonal line\n",
    "plt.xlabel('False Positive Rate')\n",
    "plt.ylabel('True Positive Rate')\n",
    "plt.title('Multi-Class ROC Curve')\n",
    "plt.legend(loc=\"lower right\")\n",
    "plt.grid()\n",
    "plt.show()\n"
   ]
  },
  {
   "cell_type": "code",
   "execution_count": 78,
   "id": "2fbb5716-9199-489d-83cf-ffaa844b64c8",
   "metadata": {},
   "outputs": [
    {
     "data": {
      "text/plain": [
       "{'prediction': 'customer'}"
      ]
     },
     "execution_count": 78,
     "metadata": {},
     "output_type": "execute_result"
    }
   ],
   "source": [
    "import requests \n",
    "email_body = \"i have this problem your products , can you assist me on this ?  i'm having this issue with your products\"\n",
    "url = f\"http://localhost:5000/classification?email_body={email_body}\"\n",
    "\n",
    "response = requests.post(url)\n",
    "response.json()"
   ]
  },
  {
   "cell_type": "code",
   "execution_count": null,
   "id": "18f74bf0-0dd9-4da4-acb6-c81ba54beded",
   "metadata": {},
   "outputs": [],
   "source": []
  },
  {
   "cell_type": "code",
   "execution_count": null,
   "id": "db95d5b6-82ee-47c9-b4ce-77f94857b9e6",
   "metadata": {},
   "outputs": [],
   "source": []
  }
 ],
 "metadata": {
  "kernelspec": {
   "display_name": "nlp_vr_env",
   "language": "python",
   "name": "myenv"
  },
  "language_info": {
   "codemirror_mode": {
    "name": "ipython",
    "version": 3
   },
   "file_extension": ".py",
   "mimetype": "text/x-python",
   "name": "python",
   "nbconvert_exporter": "python",
   "pygments_lexer": "ipython3",
   "version": "3.10.0"
  }
 },
 "nbformat": 4,
 "nbformat_minor": 5
}
