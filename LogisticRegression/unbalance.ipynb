{
 "cells": [
  {
   "cell_type": "code",
   "execution_count": 1,
   "id": "cfdc6ab9-3891-4045-b00e-0d71005e4d1d",
   "metadata": {},
   "outputs": [],
   "source": [
    "import warnings\n",
    "import pandas as pd\n",
    "import re\n",
    "from sklearn.model_selection import train_test_split\n",
    "import matplotlib.pyplot as plt\n",
    "import seaborn as sns\n",
    "from sklearn.feature_extraction.text import TfidfVectorizer\n",
    "from sklearn.linear_model import LogisticRegression\n",
    "from sklearn.metrics import classification_report, accuracy_score\n",
    "from sklearn.linear_model import LogisticRegression\n",
    "from sklearn.metrics import classification_report, accuracy_score\n",
    "from sklearn.metrics import confusion_matrix, ConfusionMatrixDisplay\n",
    "import numpy as np\n",
    "\n",
    "warnings.filterwarnings(\"ignore\")"
   ]
  },
  {
   "cell_type": "code",
   "execution_count": 4,
   "id": "d1dea25e-8908-4ae2-871d-76238990ef06",
   "metadata": {},
   "outputs": [],
   "source": [
    "data = pd.read_csv(\"../data/high_dataset.csv\")\n"
   ]
  },
  {
   "cell_type": "code",
   "execution_count": 5,
   "id": "dede9a55-7f45-490c-acfe-021c6b2648a5",
   "metadata": {},
   "outputs": [],
   "source": [
    "train_df , test_df = train_test_split (\n",
    "        data , \n",
    "        test_size = 0.2 , \n",
    "        random_state = 42 , \n",
    "        stratify = data[\"label\"] \n",
    "    )"
   ]
  },
  {
   "cell_type": "code",
   "execution_count": null,
   "id": "bbeb8e34-0b24-46bc-94d6-21eba680aa11",
   "metadata": {},
   "outputs": [],
   "source": []
  },
  {
   "cell_type": "code",
   "execution_count": 6,
   "id": "3e3b0ef0-cea3-429f-8703-0ec25aa6f0ec",
   "metadata": {},
   "outputs": [],
   "source": [
    "class_counts  = train_df[\"label\"].value_counts()"
   ]
  },
  {
   "cell_type": "code",
   "execution_count": 7,
   "id": "2a452312-20c3-46f6-bd1f-762b0a817710",
   "metadata": {},
   "outputs": [
    {
     "data": {
      "image/png": "[encoded data removed]",
      "text/plain": [
       "<Figure size 1000x300 with 1 Axes>"
      ]
     },
     "metadata": {},
     "output_type": "display_data"
    }
   ],
   "source": [
    "plt.figure(figsize = (10 , 3 ) )\n",
    "sns.countplot( data = train_df ,  x = \"label\" , order = class_counts.index , palette = \"Set2\")\n",
    "plt.show()"
   ]
  },
  {
   "cell_type": "code",
   "execution_count": 8,
   "id": "f15c8b6e-fe4c-4ff2-b934-545f7a4c6baf",
   "metadata": {},
   "outputs": [],
   "source": [
    "import re\n",
    "\n",
    "def tokenizer(text):\n",
    "    text = text.lower()\n",
    "    text = re.sub(r'\\n', ' ', text)\n",
    "    text = re.sub(r',' , ' ' , text)\n",
    "    text = re.sub(r'\\.' , ' ' , text ) \n",
    "    text = re.sub(r'-' , ' ' , text ) \n",
    "    return text\n"
   ]
  },
  {
   "cell_type": "code",
   "execution_count": 9,
   "id": "db7fee12-52f6-466a-a403-8b2e96c94081",
   "metadata": {},
   "outputs": [],
   "source": [
    "train_df[\"clean_text\"] = train_df[\"text\"].apply(tokenizer)"
   ]
  },
  {
   "cell_type": "code",
   "execution_count": 10,
   "id": "6c6c639a-788e-4c91-8893-0082a95c5315",
   "metadata": {},
   "outputs": [],
   "source": [
    "label_mapping = {\n",
    "    \"customer\" : 0 , \n",
    "    \"co_worker\" : 1 ,\n",
    "    \"job_applicant\" : 2\n",
    "}\n",
    "\n",
    "train_df[\"label_encoding\"] = train_df[\"label\"].map(label_mapping)"
   ]
  },
  {
   "cell_type": "code",
   "execution_count": 11,
   "id": "fb3b5da4-ea8f-44d8-86b2-f9ff9198b92e",
   "metadata": {},
   "outputs": [],
   "source": [
    "test_df[\"clean_text\"] = test_df[\"text\"].apply(tokenizer)\n",
    "test_df[\"label_encoding\"]  = test_df[\"label\"].map(label_mapping)"
   ]
  },
  {
   "cell_type": "code",
   "execution_count": 12,
   "id": "97823270-f6d2-436c-b0aa-c299cf10ff10",
   "metadata": {},
   "outputs": [
    {
     "data": {
      "text/html": [
       "<div>\n",
       "<style scoped>\n",
       "    .dataframe tbody tr th:only-of-type {\n",
       "        vertical-align: middle;\n",
       "    }\n",
       "\n",
       "    .dataframe tbody tr th {\n",
       "        vertical-align: top;\n",
       "    }\n",
       "\n",
       "    .dataframe thead th {\n",
       "        text-align: right;\n",
       "    }\n",
       "</style>\n",
       "<table border=\"1\" class=\"dataframe\">\n",
       "  <thead>\n",
       "    <tr style=\"text-align: right;\">\n",
       "      <th></th>\n",
       "      <th>text</th>\n",
       "      <th>label</th>\n",
       "      <th>clean_text</th>\n",
       "      <th>label_encoding</th>\n",
       "    </tr>\n",
       "  </thead>\n",
       "  <tbody>\n",
       "    <tr>\n",
       "      <th>19015</th>\n",
       "      <td>Hi Team,\\n\\nJust confirming everyone's availab...</td>\n",
       "      <td>co_worker</td>\n",
       "      <td>hi team   just confirming everyone's availabil...</td>\n",
       "      <td>1</td>\n",
       "    </tr>\n",
       "    <tr>\n",
       "      <th>27371</th>\n",
       "      <td>I'm having an issue with the {product_purchase...</td>\n",
       "      <td>customer</td>\n",
       "      <td>i'm having an issue with the {product_purchase...</td>\n",
       "      <td>0</td>\n",
       "    </tr>\n",
       "    <tr>\n",
       "      <th>3004</th>\n",
       "      <td>Congratulations to Bob for successfully comple...</td>\n",
       "      <td>co_worker</td>\n",
       "      <td>congratulations to bob for successfully comple...</td>\n",
       "      <td>1</td>\n",
       "    </tr>\n",
       "    <tr>\n",
       "      <th>32031</th>\n",
       "      <td>I'm having an issue with the {product_purchase...</td>\n",
       "      <td>customer</td>\n",
       "      <td>i'm having an issue with the {product_purchase...</td>\n",
       "      <td>0</td>\n",
       "    </tr>\n",
       "    <tr>\n",
       "      <th>19487</th>\n",
       "      <td>Hi Riley,\\n\\nCan we schedule a quick meeting t...</td>\n",
       "      <td>co_worker</td>\n",
       "      <td>hi riley   can we schedule a quick meeting to ...</td>\n",
       "      <td>1</td>\n",
       "    </tr>\n",
       "    <tr>\n",
       "      <th>...</th>\n",
       "      <td>...</td>\n",
       "      <td>...</td>\n",
       "      <td>...</td>\n",
       "      <td>...</td>\n",
       "    </tr>\n",
       "    <tr>\n",
       "      <th>6924</th>\n",
       "      <td>Update: The Sales team has finished the initia...</td>\n",
       "      <td>co_worker</td>\n",
       "      <td>update: the sales team has finished the initia...</td>\n",
       "      <td>1</td>\n",
       "    </tr>\n",
       "    <tr>\n",
       "      <th>33258</th>\n",
       "      <td>Dear Hiring Manager,\\n\\nI am writing to expres...</td>\n",
       "      <td>job_applicant</td>\n",
       "      <td>dear hiring manager   i am writing to express ...</td>\n",
       "      <td>2</td>\n",
       "    </tr>\n",
       "    <tr>\n",
       "      <th>4491</th>\n",
       "      <td>Join us for the Product Showcase on June 3. RS...</td>\n",
       "      <td>co_worker</td>\n",
       "      <td>join us for the product showcase on june 3  rs...</td>\n",
       "      <td>1</td>\n",
       "    </tr>\n",
       "    <tr>\n",
       "      <th>14939</th>\n",
       "      <td>Attached is the updated travel policy. All emp...</td>\n",
       "      <td>co_worker</td>\n",
       "      <td>attached is the updated travel policy  all emp...</td>\n",
       "      <td>1</td>\n",
       "    </tr>\n",
       "    <tr>\n",
       "      <th>4621</th>\n",
       "      <td>You're invited to the Hackathon on August 5 at...</td>\n",
       "      <td>co_worker</td>\n",
       "      <td>you're invited to the hackathon on august 5 at...</td>\n",
       "      <td>1</td>\n",
       "    </tr>\n",
       "  </tbody>\n",
       "</table>\n",
       "<p>7726 rows × 4 columns</p>\n",
       "</div>"
      ],
      "text/plain": [
       "                                                    text          label  \\\n",
       "19015  Hi Team,\\n\\nJust confirming everyone's availab...      co_worker   \n",
       "27371  I'm having an issue with the {product_purchase...       customer   \n",
       "3004   Congratulations to Bob for successfully comple...      co_worker   \n",
       "32031  I'm having an issue with the {product_purchase...       customer   \n",
       "19487  Hi Riley,\\n\\nCan we schedule a quick meeting t...      co_worker   \n",
       "...                                                  ...            ...   \n",
       "6924   Update: The Sales team has finished the initia...      co_worker   \n",
       "33258  Dear Hiring Manager,\\n\\nI am writing to expres...  job_applicant   \n",
       "4491   Join us for the Product Showcase on June 3. RS...      co_worker   \n",
       "14939  Attached is the updated travel policy. All emp...      co_worker   \n",
       "4621   You're invited to the Hackathon on August 5 at...      co_worker   \n",
       "\n",
       "                                              clean_text  label_encoding  \n",
       "19015  hi team   just confirming everyone's availabil...               1  \n",
       "27371  i'm having an issue with the {product_purchase...               0  \n",
       "3004   congratulations to bob for successfully comple...               1  \n",
       "32031  i'm having an issue with the {product_purchase...               0  \n",
       "19487  hi riley   can we schedule a quick meeting to ...               1  \n",
       "...                                                  ...             ...  \n",
       "6924   update: the sales team has finished the initia...               1  \n",
       "33258  dear hiring manager   i am writing to express ...               2  \n",
       "4491   join us for the product showcase on june 3  rs...               1  \n",
       "14939  attached is the updated travel policy  all emp...               1  \n",
       "4621   you're invited to the hackathon on august 5 at...               1  \n",
       "\n",
       "[7726 rows x 4 columns]"
      ]
     },
     "execution_count": 12,
     "metadata": {},
     "output_type": "execute_result"
    }
   ],
   "source": [
    "test_df"
   ]
  },
  {
   "cell_type": "code",
   "execution_count": 13,
   "id": "b8446571-645d-4214-8bcf-8b36bdefc103",
   "metadata": {},
   "outputs": [],
   "source": [
    "X = train_df[\"clean_text\"]\n",
    "y = train_df[\"label\"]"
   ]
  },
  {
   "cell_type": "code",
   "execution_count": 14,
   "id": "24628b87-3d9a-4d25-8dd3-ecf2f4d2ed0e",
   "metadata": {},
   "outputs": [],
   "source": [
    "X_train , X_test , y_train , y_test = train_test_split ( \n",
    "    X , \n",
    "    y , \n",
    "    test_size = 0.3 , \n",
    "    random_state = 42 ,\n",
    "    stratify = y )"
   ]
  },
  {
   "cell_type": "code",
   "execution_count": null,
   "id": "5fb3eb0c-9199-4e11-8d94-fefb499e0285",
   "metadata": {},
   "outputs": [],
   "source": []
  },
  {
   "cell_type": "code",
   "execution_count": 79,
   "id": "b09aa979-4979-4f81-8f5e-13a5c420207c",
   "metadata": {},
   "outputs": [],
   "source": [
    "tfidf_vectorizer = TfidfVectorizer(\n",
    "    max_features = 10 , \n",
    "    ngram_range = ( 1 , 2 ),\n",
    "    stop_words = \"english\"\n",
    ")\n",
    "\n",
    "X_train_tfidf = tfidf_vectorizer.fit_transform(X_train)\n",
    "\n",
    "X_val_tfidf = tfidf_vectorizer.transform(X_test)\n",
    "X_test_tfidf = tfidf_vectorizer.transform(test_df[\"clean_text\"])\n",
    "\n"
   ]
  },
  {
   "cell_type": "code",
   "execution_count": 80,
   "id": "627e3302-a98f-4034-9fda-e4923638b5a7",
   "metadata": {},
   "outputs": [
    {
     "name": "stdout",
     "output_type": "stream",
     "text": [
      "LogisticRegression Score is  84.25 %\n",
      "\n",
      "naive bayes score        is  79.38 %\n"
     ]
    }
   ],
   "source": [
    "from sklearn.naive_bayes import MultinomialNB\n",
    "\n",
    "\n",
    "model = LogisticRegression(max_iter=1000 , verbose = 2)\n",
    "model.fit(X_train_tfidf, y_train)\n",
    "logistic_score = model.score(X_val_tfidf , y_test)\n",
    "\n",
    "model_1 = MultinomialNB( )\n",
    "model_1.fit(X_train_tfidf , y_train)\n",
    "naive_score = model_1.score(X_val_tfidf , y_test)\n",
    "\n",
    "print (f\"LogisticRegression Score is {logistic_score * 100: .2f} %\")\n",
    "print()\n",
    "print (f\"naive bayes score        is {naive_score * 100: .2f} %\") "
   ]
  },
  {
   "cell_type": "code",
   "execution_count": 81,
   "id": "65ca77ce-3065-483d-ad55-18b01ef084f1",
   "metadata": {},
   "outputs": [],
   "source": [
    "y_pred = model.predict(X_val_tfidf)\n"
   ]
  },
  {
   "cell_type": "code",
   "execution_count": null,
   "id": "5d80d83b-6f15-4973-8cac-4f342459726b",
   "metadata": {},
   "outputs": [],
   "source": []
  },
  {
   "cell_type": "code",
   "execution_count": null,
   "id": "376e12e5-0d05-408b-b81a-9fa9fd109305",
   "metadata": {},
   "outputs": [],
   "source": []
  },
  {
   "cell_type": "code",
   "execution_count": null,
   "id": "ecb4fbf9-a7da-4886-aa21-27d00c3dd987",
   "metadata": {},
   "outputs": [],
   "source": []
  },
  {
   "cell_type": "code",
   "execution_count": 82,
   "id": "dd4cc797-a08e-4c04-a9ce-155c74965f0f",
   "metadata": {},
   "outputs": [],
   "source": [
    "def predict(text):\n",
    "    text = tokenizer(text)\n",
    "    text_idf = tfidf_vectorizer.transform([text])\n",
    "    return model.predict(text_idf)"
   ]
  },
  {
   "cell_type": "code",
   "execution_count": 83,
   "id": "2eee2432-209f-48c3-adf8-648ebc6eaf53",
   "metadata": {},
   "outputs": [
    {
     "name": "stdout",
     "output_type": "stream",
     "text": [
      " the class predicted is   \"co_worker\"\n"
     ]
    }
   ],
   "source": [
    "text = \"\"\"\n",
    "    Dear Hiring Manager\n",
    "    name is abdelmoughit EL Ouaad , I am a student a FSTM\n",
    "    i want to express my interest for data science postion\n",
    "\"\"\"\n",
    "word_predicted = predict(text)[0]\n",
    "print(f\" the class predicted is   \\\"{word_predicted}\\\"\")"
   ]
  },
  {
   "cell_type": "code",
   "execution_count": 84,
   "id": "afc036ab-9f8f-4593-af88-024cb9ef0746",
   "metadata": {},
   "outputs": [
    {
     "name": "stdout",
     "output_type": "stream",
     "text": [
      " the class predicted is   \"co_worker\"\n"
     ]
    }
   ],
   "source": [
    "text = \"\"\"\n",
    "    Dear Hiring Manager\n",
    "    name is abdelmoughit EL Ouaad , I am a student a FSTM\n",
    "    i want to express my interest for data science postion\n",
    "    project project project\n",
    "\"\"\"\n",
    "word_predicted = predict(text)[0]\n",
    "print(f\" the class predicted is   \\\"{word_predicted}\\\"\")"
   ]
  },
  {
   "cell_type": "code",
   "execution_count": 85,
   "id": "89fc6423-f3ca-462b-88a6-176350ec5508",
   "metadata": {},
   "outputs": [
    {
     "data": {
      "image/png": "[encoded data removed]",
      "text/plain": [
       "<Figure size 640x480 with 2 Axes>"
      ]
     },
     "metadata": {},
     "output_type": "display_data"
    }
   ],
   "source": [
    "cm = confusion_matrix (y_test , y_pred , labels = model.classes_ )\n",
    "disp = ConfusionMatrixDisplay(confusion_matrix=cm, display_labels=model.classes_)\n",
    "disp.plot(cmap=\"Blues\")\n",
    "plt.title(\"Confusion Matrix\")\n",
    "plt.show()\n",
    "\n"
   ]
  },
  {
   "cell_type": "code",
   "execution_count": 86,
   "id": "3f1697c5-b99d-4e0e-b6f4-0052a7802e13",
   "metadata": {},
   "outputs": [
    {
     "name": "stdout",
     "output_type": "stream",
     "text": [
      "               precision    recall  f1-score   support\n",
      "\n",
      "    co_worker       0.77      1.00      0.87      4758\n",
      "     customer       1.00      0.71      0.83      3139\n",
      "job_applicant       0.98      0.61      0.75      1374\n",
      "\n",
      "     accuracy                           0.84      9271\n",
      "    macro avg       0.92      0.77      0.82      9271\n",
      " weighted avg       0.88      0.84      0.84      9271\n",
      "\n"
     ]
    }
   ],
   "source": [
    "from sklearn.metrics import classification_report\n",
    "print(classification_report(y_test, y_pred))\n"
   ]
  },
  {
   "cell_type": "code",
   "execution_count": null,
   "id": "df88446f-dcf2-4972-b56c-2b89caf08726",
   "metadata": {},
   "outputs": [],
   "source": []
  },
  {
   "cell_type": "code",
   "execution_count": 88,
   "id": "3a540a6c-04b8-470c-96e3-653171e96f77",
   "metadata": {},
   "outputs": [
    {
     "data": {
      "image/png": "[encoded data removed]",
      "text/plain": [
       "<Figure size 640x480 with 1 Axes>"
      ]
     },
     "metadata": {},
     "output_type": "display_data"
    }
   ],
   "source": [
    "from sklearn.preprocessing import label_binarize\n",
    "from sklearn.metrics import roc_curve, auc\n",
    "import matplotlib.pyplot as plt\n",
    "from sklearn.multiclass import OneVsRestClassifier\n",
    "import numpy as np\n",
    "\n",
    "classes = model.classes_  \n",
    "y_test_bin = label_binarize(y_test, classes=classes)\n",
    "y_score = model.predict_proba(X_val_tfidf)\n",
    "\n",
    "# Compute ROC curve and AUC for each class\n",
    "fpr = dict()\n",
    "tpr = dict()\n",
    "roc_auc = dict()\n",
    "for i in range(len(classes)):\n",
    "    fpr[i], tpr[i], _ = roc_curve(y_test_bin[:, i], y_score[:, i])\n",
    "    roc_auc[i] = auc(fpr[i], tpr[i])\n",
    "\n",
    "# Plot all ROC curves\n",
    "plt.figure()\n",
    "for i in range(len(classes)):\n",
    "    plt.plot(fpr[i], tpr[i], label=f\"Class {classes[i]} (AUC = {roc_auc[i]:.2f})\")\n",
    "\n",
    "plt.plot([0, 1], [0, 1], 'k--')  # Diagonal line\n",
    "plt.xlabel('False Positive Rate')\n",
    "plt.ylabel('True Positive Rate')\n",
    "plt.title('Multi-Class ROC Curve')\n",
    "plt.legend(loc=\"lower right\")\n",
    "plt.grid()\n",
    "plt.show()\n"
   ]
  },
  {
   "cell_type": "code",
   "execution_count": null,
   "id": "2fbb5716-9199-489d-83cf-ffaa844b64c8",
   "metadata": {},
   "outputs": [],
   "source": []
  }
 ],
 "metadata": {
  "kernelspec": {
   "display_name": "nlp_vr_env",
   "language": "python",
   "name": "myenv"
  },
  "language_info": {
   "codemirror_mode": {
    "name": "ipython",
    "version": 3
   },
   "file_extension": ".py",
   "mimetype": "text/x-python",
   "name": "python",
   "nbconvert_exporter": "python",
   "pygments_lexer": "ipython3",
   "version": "3.10.0"
  }
 },
 "nbformat": 4,
 "nbformat_minor": 5
}
