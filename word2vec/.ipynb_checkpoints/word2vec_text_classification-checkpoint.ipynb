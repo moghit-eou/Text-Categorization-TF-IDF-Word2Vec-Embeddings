{
 "cells": [
  {
   "cell_type": "code",
   "execution_count": 1,
   "id": "afffa30e-4cb2-403b-98df-06b2717555ce",
   "metadata": {},
   "outputs": [],
   "source": [
    "import warnings\n",
    "import pandas as pd\n",
    "import re\n",
    "from sklearn.model_selection import train_test_split\n",
    "import matplotlib.pyplot as plt\n",
    "import seaborn as sns\n",
    "from sklearn.feature_extraction.text import TfidfVectorizer\n",
    "from sklearn.linear_model import LogisticRegression\n",
    "from sklearn.metrics import classification_report, accuracy_score\n",
    "from sklearn.linear_model import LogisticRegression\n",
    "from sklearn.metrics import classification_report, accuracy_score\n",
    "from sklearn.metrics import confusion_matrix, ConfusionMatrixDisplay\n",
    "from sklearn.linear_model import LogisticRegression\n",
    "from sklearn.svm import SVC\n",
    "from sklearn.neighbors import KNeighborsClassifier\n",
    "from gensim.models import KeyedVectors\n",
    "\n",
    "\n",
    "import gensim\n",
    "import matplotlib.pyplot as plt\n",
    "import pandas as pd\n",
    "import spacy\n",
    "import string\n",
    "\n",
    "\n",
    "\n",
    "warnings.filterwarnings(\"ignore\")   "
   ]
  },
  {
   "cell_type": "code",
   "execution_count": 2,
   "id": "fb7c3446-4954-4848-8af2-413bc5e7dee9",
   "metadata": {},
   "outputs": [
    {
     "data": {
      "text/html": [
       "<div>\n",
       "<style scoped>\n",
       "    .dataframe tbody tr th:only-of-type {\n",
       "        vertical-align: middle;\n",
       "    }\n",
       "\n",
       "    .dataframe tbody tr th {\n",
       "        vertical-align: top;\n",
       "    }\n",
       "\n",
       "    .dataframe thead th {\n",
       "        text-align: right;\n",
       "    }\n",
       "</style>\n",
       "<table border=\"1\" class=\"dataframe\">\n",
       "  <thead>\n",
       "    <tr style=\"text-align: right;\">\n",
       "      <th></th>\n",
       "      <th>email_body</th>\n",
       "      <th>label</th>\n",
       "    </tr>\n",
       "  </thead>\n",
       "  <tbody>\n",
       "    <tr>\n",
       "      <th>0</th>\n",
       "      <td>Dear Hiring Manager,\\n\\nI wish to inquire abou...</td>\n",
       "      <td>job_applicant</td>\n",
       "    </tr>\n",
       "    <tr>\n",
       "      <th>1</th>\n",
       "      <td>Dear [Company Name] Team,\\n\\nHaving followed G...</td>\n",
       "      <td>job_applicant</td>\n",
       "    </tr>\n",
       "    <tr>\n",
       "      <th>2</th>\n",
       "      <td>Please accept this email as my formal applicat...</td>\n",
       "      <td>job_applicant</td>\n",
       "    </tr>\n",
       "    <tr>\n",
       "      <th>3</th>\n",
       "      <td>Dear Hiring Manager,\\n\\nI am excited to apply ...</td>\n",
       "      <td>job_applicant</td>\n",
       "    </tr>\n",
       "    <tr>\n",
       "      <th>4</th>\n",
       "      <td>Hi there,\\n\\nHaving followed Synergy Systems's...</td>\n",
       "      <td>job_applicant</td>\n",
       "    </tr>\n",
       "  </tbody>\n",
       "</table>\n",
       "</div>"
      ],
      "text/plain": [
       "                                          email_body          label\n",
       "0  Dear Hiring Manager,\\n\\nI wish to inquire abou...  job_applicant\n",
       "1  Dear [Company Name] Team,\\n\\nHaving followed G...  job_applicant\n",
       "2  Please accept this email as my formal applicat...  job_applicant\n",
       "3  Dear Hiring Manager,\\n\\nI am excited to apply ...  job_applicant\n",
       "4  Hi there,\\n\\nHaving followed Synergy Systems's...  job_applicant"
      ]
     },
     "execution_count": 2,
     "metadata": {},
     "output_type": "execute_result"
    }
   ],
   "source": [
    "data = pd.read_csv(\"mix_data.csv\")\n",
    "data[ data[\"label\"] == \"job_applicant\"].head()"
   ]
  },
  {
   "cell_type": "code",
   "execution_count": 3,
   "id": "9d784954-7376-42bb-9382-9f1b79679d1d",
   "metadata": {},
   "outputs": [],
   "source": [
    "class_counts  = data[\"label\"].value_counts()"
   ]
  },
  {
   "cell_type": "code",
   "execution_count": 4,
   "id": "14ac5a21-5349-459f-a83f-ab69460783df",
   "metadata": {},
   "outputs": [
    {
     "data": {
      "image/png": "[encoded data removed]",
      "text/plain": [
       "<Figure size 400x400 with 1 Axes>"
      ]
     },
     "metadata": {},
     "output_type": "display_data"
    }
   ],
   "source": [
    "plt.figure(figsize = (4, 4 ) )\n",
    "sns.countplot( data = data ,  x = \"label\" , order = class_counts.index , palette = \"Set2\")\n",
    "plt.show()"
   ]
  },
  {
   "cell_type": "code",
   "execution_count": 3,
   "id": "6c189d42-5fe8-4140-ba0f-5df478fe7464",
   "metadata": {},
   "outputs": [
    {
     "data": {
      "text/html": [
       "<div>\n",
       "<style scoped>\n",
       "    .dataframe tbody tr th:only-of-type {\n",
       "        vertical-align: middle;\n",
       "    }\n",
       "\n",
       "    .dataframe tbody tr th {\n",
       "        vertical-align: top;\n",
       "    }\n",
       "\n",
       "    .dataframe thead th {\n",
       "        text-align: right;\n",
       "    }\n",
       "</style>\n",
       "<table border=\"1\" class=\"dataframe\">\n",
       "  <thead>\n",
       "    <tr style=\"text-align: right;\">\n",
       "      <th></th>\n",
       "      <th>email_body</th>\n",
       "      <th>label</th>\n",
       "      <th>tokens</th>\n",
       "      <th>average_vector</th>\n",
       "    </tr>\n",
       "  </thead>\n",
       "  <tbody>\n",
       "    <tr>\n",
       "      <th>0</th>\n",
       "      <td>Dear Hiring Manager,\\n\\nI wish to inquire abou...</td>\n",
       "      <td>job_applicant</td>\n",
       "      <td>[dear, hiring, manager, wish, inquire, possibi...</td>\n",
       "      <td>[-0.02783203125, 0.06353494395380435, 0.024629...</td>\n",
       "    </tr>\n",
       "    <tr>\n",
       "      <th>1</th>\n",
       "      <td>Dear [Company Name] Team,\\n\\nHaving followed G...</td>\n",
       "      <td>job_applicant</td>\n",
       "      <td>[dear, company, team, having, follow, global, ...</td>\n",
       "      <td>[-0.06311394186580882, 0.02129049862132353, -0...</td>\n",
       "    </tr>\n",
       "    <tr>\n",
       "      <th>2</th>\n",
       "      <td>Please accept this email as my formal applicat...</td>\n",
       "      <td>job_applicant</td>\n",
       "      <td>[accept, email, formal, application, graphic, ...</td>\n",
       "      <td>[-0.037270210884712836, 0.0074240194784628375,...</td>\n",
       "    </tr>\n",
       "    <tr>\n",
       "      <th>3</th>\n",
       "      <td>Dear Hiring Manager,\\n\\nI am excited to apply ...</td>\n",
       "      <td>job_applicant</td>\n",
       "      <td>[dear, hiring, manager, excited, apply, graphi...</td>\n",
       "      <td>[-0.0521661376953125, 0.014130859375, -0.00042...</td>\n",
       "    </tr>\n",
       "    <tr>\n",
       "      <th>4</th>\n",
       "      <td>Hi there,\\n\\nHaving followed Synergy Systems's...</td>\n",
       "      <td>job_applicant</td>\n",
       "      <td>[hi, having, follow, synergy, systems, work, t...</td>\n",
       "      <td>[-0.02624359130859375, 0.010528782435825893, -...</td>\n",
       "    </tr>\n",
       "  </tbody>\n",
       "</table>\n",
       "</div>"
      ],
      "text/plain": [
       "                                          email_body          label  \\\n",
       "0  Dear Hiring Manager,\\n\\nI wish to inquire abou...  job_applicant   \n",
       "1  Dear [Company Name] Team,\\n\\nHaving followed G...  job_applicant   \n",
       "2  Please accept this email as my formal applicat...  job_applicant   \n",
       "3  Dear Hiring Manager,\\n\\nI am excited to apply ...  job_applicant   \n",
       "4  Hi there,\\n\\nHaving followed Synergy Systems's...  job_applicant   \n",
       "\n",
       "                                              tokens  \\\n",
       "0  [dear, hiring, manager, wish, inquire, possibi...   \n",
       "1  [dear, company, team, having, follow, global, ...   \n",
       "2  [accept, email, formal, application, graphic, ...   \n",
       "3  [dear, hiring, manager, excited, apply, graphi...   \n",
       "4  [hi, having, follow, synergy, systems, work, t...   \n",
       "\n",
       "                                      average_vector  \n",
       "0  [-0.02783203125, 0.06353494395380435, 0.024629...  \n",
       "1  [-0.06311394186580882, 0.02129049862132353, -0...  \n",
       "2  [-0.037270210884712836, 0.0074240194784628375,...  \n",
       "3  [-0.0521661376953125, 0.014130859375, -0.00042...  \n",
       "4  [-0.02624359130859375, 0.010528782435825893, -...  "
      ]
     },
     "execution_count": 3,
     "metadata": {},
     "output_type": "execute_result"
    }
   ],
   "source": [
    "data = pd.read_pickle(\"large_data.pkl\") \n",
    "data.head()"
   ]
  },
  {
   "cell_type": "code",
   "execution_count": 8,
   "id": "1eb277b4-286c-4fe3-a8a2-01af17c2b652",
   "metadata": {},
   "outputs": [],
   "source": [
    "data = pd.read_pickle(\"small_data.pkl\")"
   ]
  },
  {
   "cell_type": "code",
   "execution_count": null,
   "id": "ab829caf-b8b6-495a-aae5-069fa566cd69",
   "metadata": {},
   "outputs": [],
   "source": []
  },
  {
   "cell_type": "code",
   "execution_count": 20,
   "id": "1848e924-488b-497f-99fd-7ef737215bb0",
   "metadata": {},
   "outputs": [
    {
     "ename": "IndentationError",
     "evalue": "unindent does not match any outer indentation level (<tokenize>, line 13)",
     "output_type": "error",
     "traceback": [
      "\u001b[1;36m  File \u001b[1;32m<tokenize>:13\u001b[1;36m\u001b[0m\n\u001b[1;33m    n_to_flip = int(prop * len(label_indices))\u001b[0m\n\u001b[1;37m    ^\u001b[0m\n\u001b[1;31mIndentationError\u001b[0m\u001b[1;31m:\u001b[0m unindent does not match any outer indentation level\n"
     ]
    }
   ],
   "source": [
    "import numpy as np\n",
    "import pandas as pd\n",
    "\n",
    "def add_label_noise_by_class(data, label_col='label', random_state=42):\n",
    "\n",
    "    np.random.seed(random_state)\n",
    "    noisy_data = data.copy()\n",
    "    labels = noisy_data[label_col].unique()\n",
    "    noise_dict = {'job_applicant': 0.1, 'customer': 0.1, 'co_worker': 0.05}\n",
    "\n",
    "    for label, prop in noise_dict.items():\n",
    "        label_indices = noisy_data[noisy_data[label_col] == label].index\n",
    "        n_to_flip = int(prop * len(label_indices))\n",
    "        if n_to_flip == 0:\n",
    "            continue\n",
    "         flip_indices = np.random.choice(label_indices, size=n_to_flip, replace=False)\n",
    "         for idx in flip_indices:\n",
    "            possible_labels = [lbl for lbl in labels if lbl != label]\n",
    "            new_label = np.random.choice(possible_labels)\n",
    "            noisy_data.at[idx, label_col] = new_label\n",
    "\n",
    "    return noisy_data\n",
    "\n",
    "noisy_data = add_label_noise_by_class(data, label_col='label', random_state=42)"
   ]
  },
  {
   "cell_type": "code",
   "execution_count": 9,
   "id": "845f3ac4-f04b-47a6-8896-d5d6e27e6dc8",
   "metadata": {},
   "outputs": [
    {
     "ename": "NameError",
     "evalue": "name 'noisy_data' is not defined",
     "output_type": "error",
     "traceback": [
      "\u001b[1;31m---------------------------------------------------------------------------\u001b[0m",
      "\u001b[1;31mNameError\u001b[0m                                 Traceback (most recent call last)",
      "Cell \u001b[1;32mIn[9], line 1\u001b[0m\n\u001b[1;32m----> 1\u001b[0m \u001b[43mnoisy_data\u001b[49m[\u001b[38;5;124m\"\u001b[39m\u001b[38;5;124mlabel\u001b[39m\u001b[38;5;124m\"\u001b[39m]\u001b[38;5;241m.\u001b[39mvalue_counts()\n",
      "\u001b[1;31mNameError\u001b[0m: name 'noisy_data' is not defined"
     ]
    }
   ],
   "source": [
    "noisy_data[\"label\"].value_counts()"
   ]
  },
  {
   "cell_type": "code",
   "execution_count": 10,
   "id": "cbf4a4f8-f41a-4c22-a81e-f1953dbfc1eb",
   "metadata": {},
   "outputs": [],
   "source": [
    "#data = noisy_data\n",
    "X = data[\"average_vector\"].to_list()\n",
    "y = data[\"label\"].to_list()"
   ]
  },
  {
   "cell_type": "code",
   "execution_count": 11,
   "id": "d1e8d287-40b0-4b0e-ae8a-c765916eac03",
   "metadata": {},
   "outputs": [],
   "source": [
    "X_train , X_test , y_train , y_test = train_test_split ( \n",
    "    X , \n",
    "    y , \n",
    "    test_size = 0.2 , \n",
    "    random_state = 42 ,\n",
    "    shuffle = True\n",
    ")"
   ]
  },
  {
   "cell_type": "code",
   "execution_count": 6,
   "id": "a96c8e07-8b29-400d-a2fb-9d9cafc9f7e6",
   "metadata": {},
   "outputs": [
    {
     "name": "stdout",
     "output_type": "stream",
     "text": [
      "LogisticRegression Score is  98.10 %\n"
     ]
    }
   ],
   "source": [
    "import numpy as np\n",
    "\n",
    "\n",
    "# Train with shuffled labels\n",
    "model = LogisticRegression()\n",
    "model.fit(X_train, y_train)\n",
    "logistic_score = model.score(X_test, y_test)\n",
    "\n",
    "print(f\"LogisticRegression Score is {logistic_score * 100: .2f} %\")\n",
    "\n"
   ]
  },
  {
   "cell_type": "code",
   "execution_count": 140,
   "id": "6ee5b25d-7033-45bf-8632-691c6dcfbbce",
   "metadata": {},
   "outputs": [],
   "source": [
    "import spacy \n",
    "nlp_small = spacy.load(\"en_core_web_sm\")\n",
    "stop_words_small = nlp_small.Defaults.stop_words\n",
    "\n",
    "def tokenizer(sentence):\n",
    "    punctuations = string.punctuation\n",
    "                   \n",
    "    doc = nlp_small(sentence)  # -> tokenization\n",
    "\n",
    "    mytokens = []\n",
    "    for word in doc:\n",
    "        lemma = word.lemma_.lower().strip() # removing the whitespace & lemmatization and lowercuase\n",
    "        mytokens.append(lemma)\n",
    "\n",
    "    filtered_tokens = []\n",
    "    for word in mytokens:\n",
    "        if word not in stop_words_small and word not in punctuations:\n",
    "            filtered_tokens.append(word)\n",
    "\n",
    "    return filtered_tokens\n",
    "wv = KeyedVectors.load(\"word2vec-google-news-300.model\")\n",
    "import numpy as np\n",
    "def avg_vector(sent):\n",
    "    vector_size = wv.vector_size\n",
    "    average_vector = np.zeros(vector_size)\n",
    "    valid_word_count = 0\n",
    "\n",
    "    for word in sent:\n",
    "        if word in wv:\n",
    "            average_vector += wv[word]\n",
    "            valid_word_count += 1\n",
    "\n",
    "    if valid_word_count > 0:\n",
    "        average_vector /= valid_word_count\n",
    "    return average_vector"
   ]
  },
  {
   "cell_type": "code",
   "execution_count": 141,
   "id": "dc1fc2c0-de83-44a9-97df-f80a82b9c0d7",
   "metadata": {},
   "outputs": [],
   "source": [
    "def predict_(sentence):\n",
    "    words = tokenizer(sentence)\n",
    "    average_vector = avg_vector(words)\n",
    "    return model.predict([average_vector])"
   ]
  },
  {
   "cell_type": "code",
   "execution_count": 142,
   "id": "76239670-b78f-4e23-90ca-ae1b15ec43f5",
   "metadata": {},
   "outputs": [],
   "source": [
    "y_pred = model.predict(X_test) "
   ]
  },
  {
   "cell_type": "code",
   "execution_count": 143,
   "id": "acfa67f5-3507-4981-9a14-fc238b8592e2",
   "metadata": {},
   "outputs": [
    {
     "data": {
      "text/plain": [
       "<Figure size 300x300 with 0 Axes>"
      ]
     },
     "metadata": {},
     "output_type": "display_data"
    },
    {
     "data": {
      "image/png": "[encoded data removed]",
      "text/plain": [
       "<Figure size 640x480 with 2 Axes>"
      ]
     },
     "metadata": {},
     "output_type": "display_data"
    }
   ],
   "source": [
    "cm = confusion_matrix (y_test , y_pred , labels = model.classes_ )\n",
    "disp = ConfusionMatrixDisplay(confusion_matrix=cm, display_labels=model.classes_)\n",
    "plt.figure(figsize = (3 , 3))\n",
    "disp.plot(cmap=\"Blues\")\n",
    "plt.title(\"Confusion Matrix\")\n",
    "plt.show()\n"
   ]
  },
  {
   "cell_type": "code",
   "execution_count": 159,
   "id": "03aca1bf-c2ad-477f-8eb2-0101c8cb8e84",
   "metadata": {
    "scrolled": true
   },
   "outputs": [
    {
     "name": "stdout",
     "output_type": "stream",
     "text": [
      "               precision    recall  f1-score   support\n",
      "\n",
      "    co_worker       0.94      0.88      0.91      2177\n",
      "     customer       0.89      0.90      0.90      2013\n",
      "job_applicant       0.86      0.91      0.88      1931\n",
      "\n",
      "     accuracy                           0.90      6121\n",
      "    macro avg       0.90      0.90      0.90      6121\n",
      " weighted avg       0.90      0.90      0.90      6121\n",
      "\n"
     ]
    }
   ],
   "source": [
    "from sklearn.metrics import classification_report\n",
    "print(classification_report(y_test, y_pred))\n"
   ]
  },
  {
   "cell_type": "code",
   "execution_count": 160,
   "id": "72d2ef74-ceb4-4730-85dc-2cb8638e6d02",
   "metadata": {},
   "outputs": [
    {
     "data": {
      "image/png": "[encoded data removed]",
      "text/plain": [
       "<Figure size 640x480 with 1 Axes>"
      ]
     },
     "metadata": {},
     "output_type": "display_data"
    },
    {
     "data": {
      "text/plain": [
       "<Figure size 1000x800 with 0 Axes>"
      ]
     },
     "metadata": {},
     "output_type": "display_data"
    }
   ],
   "source": [
    "from sklearn.preprocessing import label_binarize\n",
    "from sklearn.metrics import roc_curve, auc\n",
    "import matplotlib.pyplot as plt\n",
    "from sklearn.multiclass import OneVsRestClassifier\n",
    "import numpy as np\n",
    "\n",
    "classes = model.classes_  \n",
    "y_test_bin = label_binarize(y_test, classes=classes) #[customer] -> [0 , 1 , 0] ||| co_worker -> [1 , 0 , 0]\n",
    "y_score = model.predict_proba(X_test)  \n",
    "\n",
    "fpr = dict()\n",
    "tpr = dict()\n",
    "roc_auc = dict()\n",
    "tresh_hold_counter = 0 \n",
    "for i in range(len(classes)):\n",
    "    fpr[i], tpr[i], _ = roc_curve(y_test_bin[:, i], y_score[:, i],drop_intermediate=False)\n",
    "    tresh_hold_counter = len(_)\n",
    "    roc_auc[i] = auc(fpr[i], tpr[i])\n",
    "\n",
    "plt.figure()\n",
    "for i in range(len(classes)):\n",
    "    plt.plot(fpr[i], tpr[i], label=f\"Class {classes[i]} (AUC = {roc_auc[i]:.2f})\" ,)\n",
    "\n",
    "plt.plot([0, 1], [0, 1], 'k--')  # Diagonal line\n",
    "plt.xlabel('False Positive Rate')\n",
    "plt.ylabel('True Positive Rate')\n",
    "plt.title('Multi-Class ROC Curve')\n",
    "plt.legend(loc=\"lower right\")\n",
    "plt.grid()\n",
    "plt.figure(figsize = (10 , 8 ) )\n",
    "\n",
    "plt.show()\n"
   ]
  },
  {
   "cell_type": "code",
   "execution_count": null,
   "id": "c28065a5-cdee-4afe-a0d3-e3c99138dce9",
   "metadata": {},
   "outputs": [],
   "source": []
  },
  {
   "cell_type": "code",
   "execution_count": null,
   "id": "8a474214-0d1f-4766-b9c6-6371dd32e2cb",
   "metadata": {},
   "outputs": [],
   "source": []
  },
  {
   "cell_type": "code",
   "execution_count": null,
   "id": "0d11b343-fac8-437a-88ba-e0a8f0415cf7",
   "metadata": {},
   "outputs": [],
   "source": []
  },
  {
   "cell_type": "code",
   "execution_count": null,
   "id": "58b2a521-7615-42a7-bff6-6bddfe52fc21",
   "metadata": {},
   "outputs": [],
   "source": []
  }
 ],
 "metadata": {
  "kernelspec": {
   "display_name": "Python (myenv)",
   "language": "python",
   "name": "myenv"
  },
  "language_info": {
   "codemirror_mode": {
    "name": "ipython",
    "version": 3
   },
   "file_extension": ".py",
   "mimetype": "text/x-python",
   "name": "python",
   "nbconvert_exporter": "python",
   "pygments_lexer": "ipython3",
   "version": "3.10.0"
  }
 },
 "nbformat": 4,
 "nbformat_minor": 5
}
