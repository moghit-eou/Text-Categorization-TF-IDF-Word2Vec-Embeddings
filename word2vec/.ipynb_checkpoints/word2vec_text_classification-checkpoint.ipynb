{
 "cells": [
  {
   "cell_type": "code",
   "execution_count": 81,
   "id": "afffa30e-4cb2-403b-98df-06b2717555ce",
   "metadata": {},
   "outputs": [],
   "source": [
    "import warnings\n",
    "import pandas as pd\n",
    "import re\n",
    "from sklearn.model_selection import train_test_split\n",
    "import matplotlib.pyplot as plt\n",
    "import seaborn as sns\n",
    "from sklearn.feature_extraction.text import TfidfVectorizer\n",
    "from sklearn.linear_model import LogisticRegression\n",
    "from sklearn.metrics import classification_report, accuracy_score\n",
    "from sklearn.linear_model import LogisticRegression\n",
    "from sklearn.metrics import classification_report, accuracy_score\n",
    "from sklearn.metrics import confusion_matrix, ConfusionMatrixDisplay\n",
    "import numpy as np\n",
    "import numpy as np\n",
    "from gensim.models import KeyedVectors\n",
    "\n",
    "\n",
    "import gensim\n",
    "from gensim.models import word2vec\n",
    "from gensim.models.word2vec import Word2Vec\n",
    "import numpy as np\n",
    "import matplotlib.pyplot as plt\n",
    "import pandas as pd\n",
    "import spacy\n",
    "import string\n",
    "\n",
    "\n",
    "\n",
    "warnings.filterwarnings(\"ignore\")   "
   ]
  },
  {
   "cell_type": "code",
   "execution_count": 82,
   "id": "fb7c3446-4954-4848-8af2-413bc5e7dee9",
   "metadata": {},
   "outputs": [
    {
     "data": {
      "text/html": [
       "<div>\n",
       "<style scoped>\n",
       "    .dataframe tbody tr th:only-of-type {\n",
       "        vertical-align: middle;\n",
       "    }\n",
       "\n",
       "    .dataframe tbody tr th {\n",
       "        vertical-align: top;\n",
       "    }\n",
       "\n",
       "    .dataframe thead th {\n",
       "        text-align: right;\n",
       "    }\n",
       "</style>\n",
       "<table border=\"1\" class=\"dataframe\">\n",
       "  <thead>\n",
       "    <tr style=\"text-align: right;\">\n",
       "      <th></th>\n",
       "      <th>text</th>\n",
       "      <th>label</th>\n",
       "    </tr>\n",
       "  </thead>\n",
       "  <tbody>\n",
       "    <tr>\n",
       "      <th>9825</th>\n",
       "      <td>Dear Hiring Manager,\\n\\nI am writing to expres...</td>\n",
       "      <td>job_applicant</td>\n",
       "    </tr>\n",
       "    <tr>\n",
       "      <th>9826</th>\n",
       "      <td>Dear Hiring Manager,\\n\\nI am writing to expres...</td>\n",
       "      <td>job_applicant</td>\n",
       "    </tr>\n",
       "    <tr>\n",
       "      <th>9827</th>\n",
       "      <td>To the Hiring Team at NextGen Ltd,\\n\\nHaving f...</td>\n",
       "      <td>job_applicant</td>\n",
       "    </tr>\n",
       "    <tr>\n",
       "      <th>9828</th>\n",
       "      <td>Dear Hiring Manager,\\n\\nI am writing to expres...</td>\n",
       "      <td>job_applicant</td>\n",
       "    </tr>\n",
       "    <tr>\n",
       "      <th>9829</th>\n",
       "      <td>Dear Hiring Manager,\\n\\nI am writing to expres...</td>\n",
       "      <td>job_applicant</td>\n",
       "    </tr>\n",
       "  </tbody>\n",
       "</table>\n",
       "</div>"
      ],
      "text/plain": [
       "                                                   text          label\n",
       "9825  Dear Hiring Manager,\\n\\nI am writing to expres...  job_applicant\n",
       "9826  Dear Hiring Manager,\\n\\nI am writing to expres...  job_applicant\n",
       "9827  To the Hiring Team at NextGen Ltd,\\n\\nHaving f...  job_applicant\n",
       "9828  Dear Hiring Manager,\\n\\nI am writing to expres...  job_applicant\n",
       "9829  Dear Hiring Manager,\\n\\nI am writing to expres...  job_applicant"
      ]
     },
     "execution_count": 82,
     "metadata": {},
     "output_type": "execute_result"
    }
   ],
   "source": [
    "data = pd.read_csv(\"../data/large_email_dataset.csv\")\n",
    "data[ data[\"label\"] == \"job_applicant\"].head()"
   ]
  },
  {
   "cell_type": "code",
   "execution_count": 83,
   "id": "9d784954-7376-42bb-9382-9f1b79679d1d",
   "metadata": {},
   "outputs": [],
   "source": [
    "class_counts  = data[\"label\"].value_counts()"
   ]
  },
  {
   "cell_type": "code",
   "execution_count": 84,
   "id": "14ac5a21-5349-459f-a83f-ab69460783df",
   "metadata": {},
   "outputs": [
    {
     "data": {
      "image/png": "[encoded data removed]",
      "text/plain": [
       "<Figure size 400x400 with 1 Axes>"
      ]
     },
     "metadata": {},
     "output_type": "display_data"
    }
   ],
   "source": [
    "plt.figure(figsize = (4, 4 ) )\n",
    "sns.countplot( data = data ,  x = \"label\" , order = class_counts.index , palette = \"Set2\")\n",
    "plt.show()"
   ]
  },
  {
   "cell_type": "code",
   "execution_count": 85,
   "id": "ee964363-f815-4d54-882e-d30d34a1b9ad",
   "metadata": {},
   "outputs": [
    {
     "ename": "MemoryError",
     "evalue": "Unable to allocate 3.35 GiB for an array with shape (900000000,) and data type float32",
     "output_type": "error",
     "traceback": [
      "\u001b[1;31m---------------------------------------------------------------------------\u001b[0m",
      "\u001b[1;31mMemoryError\u001b[0m                               Traceback (most recent call last)",
      "Cell \u001b[1;32mIn[85], line 1\u001b[0m\n\u001b[1;32m----> 1\u001b[0m model \u001b[38;5;241m=\u001b[39m \u001b[43mKeyedVectors\u001b[49m\u001b[38;5;241;43m.\u001b[39;49m\u001b[43mload\u001b[49m\u001b[43m(\u001b[49m\u001b[38;5;124;43m\"\u001b[39;49m\u001b[38;5;124;43mword2vec-google-news-300.model\u001b[39;49m\u001b[38;5;124;43m\"\u001b[39;49m\u001b[43m)\u001b[49m\n",
      "File \u001b[1;32m~\\desktop\\text_classification\\venv\\lib\\site-packages\\gensim\\utils.py:486\u001b[0m, in \u001b[0;36mSaveLoad.load\u001b[1;34m(cls, fname, mmap)\u001b[0m\n\u001b[0;32m    483\u001b[0m compress, subname \u001b[38;5;241m=\u001b[39m SaveLoad\u001b[38;5;241m.\u001b[39m_adapt_by_suffix(fname)\n\u001b[0;32m    485\u001b[0m obj \u001b[38;5;241m=\u001b[39m unpickle(fname)\n\u001b[1;32m--> 486\u001b[0m \u001b[43mobj\u001b[49m\u001b[38;5;241;43m.\u001b[39;49m\u001b[43m_load_specials\u001b[49m\u001b[43m(\u001b[49m\u001b[43mfname\u001b[49m\u001b[43m,\u001b[49m\u001b[43m \u001b[49m\u001b[43mmmap\u001b[49m\u001b[43m,\u001b[49m\u001b[43m \u001b[49m\u001b[43mcompress\u001b[49m\u001b[43m,\u001b[49m\u001b[43m \u001b[49m\u001b[43msubname\u001b[49m\u001b[43m)\u001b[49m\n\u001b[0;32m    487\u001b[0m obj\u001b[38;5;241m.\u001b[39madd_lifecycle_event(\u001b[38;5;124m\"\u001b[39m\u001b[38;5;124mloaded\u001b[39m\u001b[38;5;124m\"\u001b[39m, fname\u001b[38;5;241m=\u001b[39mfname)\n\u001b[0;32m    488\u001b[0m \u001b[38;5;28;01mreturn\u001b[39;00m obj\n",
      "File \u001b[1;32m~\\desktop\\text_classification\\venv\\lib\\site-packages\\gensim\\models\\keyedvectors.py:263\u001b[0m, in \u001b[0;36mKeyedVectors._load_specials\u001b[1;34m(self, *args, **kwargs)\u001b[0m\n\u001b[0;32m    261\u001b[0m \u001b[38;5;28;01mdef\u001b[39;00m\u001b[38;5;250m \u001b[39m\u001b[38;5;21m_load_specials\u001b[39m(\u001b[38;5;28mself\u001b[39m, \u001b[38;5;241m*\u001b[39margs, \u001b[38;5;241m*\u001b[39m\u001b[38;5;241m*\u001b[39mkwargs):\n\u001b[0;32m    262\u001b[0m \u001b[38;5;250m    \u001b[39m\u001b[38;5;124;03m\"\"\"Handle special requirements of `.load()` protocol, usually up-converting older versions.\"\"\"\u001b[39;00m\n\u001b[1;32m--> 263\u001b[0m     \u001b[38;5;28msuper\u001b[39m(KeyedVectors, \u001b[38;5;28mself\u001b[39m)\u001b[38;5;241m.\u001b[39m_load_specials(\u001b[38;5;241m*\u001b[39margs, \u001b[38;5;241m*\u001b[39m\u001b[38;5;241m*\u001b[39mkwargs)\n\u001b[0;32m    264\u001b[0m     \u001b[38;5;28;01mif\u001b[39;00m \u001b[38;5;28mhasattr\u001b[39m(\u001b[38;5;28mself\u001b[39m, \u001b[38;5;124m'\u001b[39m\u001b[38;5;124mdoctags\u001b[39m\u001b[38;5;124m'\u001b[39m):\n\u001b[0;32m    265\u001b[0m         \u001b[38;5;28mself\u001b[39m\u001b[38;5;241m.\u001b[39m_upconvert_old_d2vkv()\n",
      "File \u001b[1;32m~\\desktop\\text_classification\\venv\\lib\\site-packages\\gensim\\utils.py:528\u001b[0m, in \u001b[0;36mSaveLoad._load_specials\u001b[1;34m(self, fname, mmap, compress, subname)\u001b[0m\n\u001b[0;32m    526\u001b[0m     val \u001b[38;5;241m=\u001b[39m np\u001b[38;5;241m.\u001b[39mload(subname(fname, attrib))[\u001b[38;5;124m'\u001b[39m\u001b[38;5;124mval\u001b[39m\u001b[38;5;124m'\u001b[39m]\n\u001b[0;32m    527\u001b[0m \u001b[38;5;28;01melse\u001b[39;00m:\n\u001b[1;32m--> 528\u001b[0m     val \u001b[38;5;241m=\u001b[39m \u001b[43mnp\u001b[49m\u001b[38;5;241;43m.\u001b[39;49m\u001b[43mload\u001b[49m\u001b[43m(\u001b[49m\u001b[43msubname\u001b[49m\u001b[43m(\u001b[49m\u001b[43mfname\u001b[49m\u001b[43m,\u001b[49m\u001b[43m \u001b[49m\u001b[43mattrib\u001b[49m\u001b[43m)\u001b[49m\u001b[43m,\u001b[49m\u001b[43m \u001b[49m\u001b[43mmmap_mode\u001b[49m\u001b[38;5;241;43m=\u001b[39;49m\u001b[43mmmap\u001b[49m\u001b[43m)\u001b[49m\n\u001b[0;32m    530\u001b[0m \u001b[38;5;28;01mwith\u001b[39;00m ignore_deprecation_warning():\n\u001b[0;32m    531\u001b[0m     \u001b[38;5;28msetattr\u001b[39m(\u001b[38;5;28mself\u001b[39m, attrib, val)\n",
      "File \u001b[1;32m~\\desktop\\text_classification\\venv\\lib\\site-packages\\numpy\\lib\\npyio.py:456\u001b[0m, in \u001b[0;36mload\u001b[1;34m(file, mmap_mode, allow_pickle, fix_imports, encoding, max_header_size)\u001b[0m\n\u001b[0;32m      0\u001b[0m <Error retrieving source code with stack_data see ipython/ipython#13598>\n",
      "File \u001b[1;32m~\\desktop\\text_classification\\venv\\lib\\site-packages\\numpy\\lib\\format.py:809\u001b[0m, in \u001b[0;36mread_array\u001b[1;34m(fp, allow_pickle, pickle_kwargs, max_header_size)\u001b[0m\n\u001b[0;32m    807\u001b[0m     count \u001b[38;5;241m=\u001b[39m \u001b[38;5;241m1\u001b[39m\n\u001b[0;32m    808\u001b[0m \u001b[38;5;28;01melse\u001b[39;00m:\n\u001b[1;32m--> 809\u001b[0m     count \u001b[38;5;241m=\u001b[39m numpy\u001b[38;5;241m.\u001b[39mmultiply\u001b[38;5;241m.\u001b[39mreduce(shape, dtype\u001b[38;5;241m=\u001b[39mnumpy\u001b[38;5;241m.\u001b[39mint64)\n\u001b[0;32m    811\u001b[0m \u001b[38;5;66;03m# Now read the actual data.\u001b[39;00m\n\u001b[0;32m    812\u001b[0m \u001b[38;5;28;01mif\u001b[39;00m dtype\u001b[38;5;241m.\u001b[39mhasobject:\n\u001b[0;32m    813\u001b[0m     \u001b[38;5;66;03m# The array contained Python objects. We need to unpickle the data.\u001b[39;00m\n",
      "\u001b[1;31mMemoryError\u001b[0m: Unable to allocate 3.35 GiB for an array with shape (900000000,) and data type float32"
     ]
    }
   ],
   "source": [
    "model = KeyedVectors.load(\"word2vec-google-news-300.model\")"
   ]
  },
  {
   "cell_type": "code",
   "execution_count": 79,
   "id": "3ed97ac7-b497-46cf-a219-d1bc795ad68c",
   "metadata": {},
   "outputs": [],
   "source": [
    "\n",
    "nlp = spacy.load(\"en_core_web_lg\")\n",
    "stop_words = nlp.Defaults.stop_words"
   ]
  },
  {
   "cell_type": "code",
   "execution_count": 65,
   "id": "7cc48c3b-5384-4b8a-ae84-ec3aeb1d041e",
   "metadata": {},
   "outputs": [],
   "source": [
    "def tokenizer(sentence):\n",
    "    punctuations = string.punctuation\n",
    "                   \n",
    "    doc = nlp(sentence)  # -> tokenization\n",
    "\n",
    "    mytokens = []\n",
    "    for word in doc:\n",
    "        lemma = word.lemma_.lower().strip() # removing the whitespace & lemmatization and lowercuase\n",
    "        mytokens.append(lemma)\n",
    "\n",
    "    filtered_tokens = []\n",
    "    for word in mytokens:\n",
    "        if word not in stop_words and word not in punctuations:\n",
    "            filtered_tokens.append(word)\n",
    "\n",
    "    return filtered_tokens\n"
   ]
  },
  {
   "cell_type": "code",
   "execution_count": 66,
   "id": "b1cd1b2f-1c0b-4367-89c2-f88065ada80d",
   "metadata": {},
   "outputs": [
    {
     "data": {
      "text/plain": [
       "['dog', 'bark', 'everybody', 'spelling']"
      ]
     },
     "execution_count": 66,
     "metadata": {},
     "output_type": "execute_result"
    }
   ],
   "source": [
    "spacy_tokenizer(\"the dog was barking while everybody was spelling , ' \")"
   ]
  },
  {
   "cell_type": "code",
   "execution_count": 69,
   "id": "2ff69ce9-892b-4107-b15c-ce202f43b3fa",
   "metadata": {},
   "outputs": [],
   "source": [
    "data['tokens'] = data['text'].apply(tokenizer)"
   ]
  },
  {
   "cell_type": "code",
   "execution_count": 70,
   "id": "bd3aab2d-837a-4657-b169-928f8aa1e9b0",
   "metadata": {},
   "outputs": [
    {
     "data": {
      "text/html": [
       "<div>\n",
       "<style scoped>\n",
       "    .dataframe tbody tr th:only-of-type {\n",
       "        vertical-align: middle;\n",
       "    }\n",
       "\n",
       "    .dataframe tbody tr th {\n",
       "        vertical-align: top;\n",
       "    }\n",
       "\n",
       "    .dataframe thead th {\n",
       "        text-align: right;\n",
       "    }\n",
       "</style>\n",
       "<table border=\"1\" class=\"dataframe\">\n",
       "  <thead>\n",
       "    <tr style=\"text-align: right;\">\n",
       "      <th></th>\n",
       "      <th>text</th>\n",
       "      <th>label</th>\n",
       "      <th>tokens</th>\n",
       "    </tr>\n",
       "  </thead>\n",
       "  <tbody>\n",
       "    <tr>\n",
       "      <th>0</th>\n",
       "      <td>Dear Sir/Madam,\\n\\nWhere can I find details ab...</td>\n",
       "      <td>customer</td>\n",
       "      <td>[dear, sir, madam, find, detail, solutions, in...</td>\n",
       "    </tr>\n",
       "    <tr>\n",
       "      <th>1</th>\n",
       "      <td>Dear Support,\\n\\nMy recent order #61510 arrive...</td>\n",
       "      <td>customer</td>\n",
       "      <td>[dear, support, recent, order, 61510, arrive, ...</td>\n",
       "    </tr>\n",
       "    <tr>\n",
       "      <th>2</th>\n",
       "      <td>Hello Team,\\n\\nCan you please provide the pric...</td>\n",
       "      <td>customer</td>\n",
       "      <td>[hello, team, provide, pricing, structure, sup...</td>\n",
       "    </tr>\n",
       "    <tr>\n",
       "      <th>3</th>\n",
       "      <td>Hello Team,\\n\\nCan you please provide the pric...</td>\n",
       "      <td>customer</td>\n",
       "      <td>[hello, team, provide, pricing, structure, ser...</td>\n",
       "    </tr>\n",
       "    <tr>\n",
       "      <th>4</th>\n",
       "      <td>Hi Team,\\n\\nThe quality of the Data Analytics ...</td>\n",
       "      <td>customer</td>\n",
       "      <td>[hi, team, quality, data, analytics, suite, re...</td>\n",
       "    </tr>\n",
       "  </tbody>\n",
       "</table>\n",
       "</div>"
      ],
      "text/plain": [
       "                                                text     label  \\\n",
       "0  Dear Sir/Madam,\\n\\nWhere can I find details ab...  customer   \n",
       "1  Dear Support,\\n\\nMy recent order #61510 arrive...  customer   \n",
       "2  Hello Team,\\n\\nCan you please provide the pric...  customer   \n",
       "3  Hello Team,\\n\\nCan you please provide the pric...  customer   \n",
       "4  Hi Team,\\n\\nThe quality of the Data Analytics ...  customer   \n",
       "\n",
       "                                              tokens  \n",
       "0  [dear, sir, madam, find, detail, solutions, in...  \n",
       "1  [dear, support, recent, order, 61510, arrive, ...  \n",
       "2  [hello, team, provide, pricing, structure, sup...  \n",
       "3  [hello, team, provide, pricing, structure, ser...  \n",
       "4  [hi, team, quality, data, analytics, suite, re...  "
      ]
     },
     "execution_count": 70,
     "metadata": {},
     "output_type": "execute_result"
    }
   ],
   "source": [
    "data.head()"
   ]
  },
  {
   "cell_type": "code",
   "execution_count": 74,
   "id": "26fd3e45-f7e8-4ba6-a504-73c52bdefccf",
   "metadata": {},
   "outputs": [],
   "source": [
    "def sent_vec(sent):\n",
    "    vector_size = model.vector_size\n",
    "    average_vector = np.zeros(vector_size)\n",
    "    valid_word_count = 0\n",
    "\n",
    "    # Sum word vectors for words that exist in the model\n",
    "    for word in sent:\n",
    "        if word in model:\n",
    "            average_vector += model[word]\n",
    "            valid_word_count += 1\n",
    "\n",
    "    # Avoid division by zero, return the average of word vectors\n",
    "    if valid_word_count > 0:\n",
    "        average_vector /= valid_word_count\n",
    "    return average_vector"
   ]
  },
  {
   "cell_type": "code",
   "execution_count": 75,
   "id": "6a817189-be8f-48aa-87e8-e3d6797946cf",
   "metadata": {},
   "outputs": [
    {
     "ename": "NameError",
     "evalue": "name 'wv' is not defined",
     "output_type": "error",
     "traceback": [
      "\u001b[1;31m---------------------------------------------------------------------------\u001b[0m",
      "\u001b[1;31mNameError\u001b[0m                                 Traceback (most recent call last)",
      "Cell \u001b[1;32mIn[75], line 1\u001b[0m\n\u001b[1;32m----> 1\u001b[0m \u001b[43msent_vec\u001b[49m\u001b[43m(\u001b[49m\u001b[38;5;124;43m\"\u001b[39;49m\u001b[38;5;124;43mthis is just me\u001b[39;49m\u001b[38;5;124;43m\"\u001b[39;49m\u001b[43m)\u001b[49m\n",
      "Cell \u001b[1;32mIn[74], line 8\u001b[0m, in \u001b[0;36msent_vec\u001b[1;34m(sent)\u001b[0m\n\u001b[0;32m      6\u001b[0m \u001b[38;5;66;03m# Sum word vectors for words that exist in the model\u001b[39;00m\n\u001b[0;32m      7\u001b[0m \u001b[38;5;28;01mfor\u001b[39;00m word \u001b[38;5;129;01min\u001b[39;00m sent:\n\u001b[1;32m----> 8\u001b[0m     \u001b[38;5;28;01mif\u001b[39;00m word \u001b[38;5;129;01min\u001b[39;00m \u001b[43mwv\u001b[49m:\n\u001b[0;32m      9\u001b[0m         average_vector \u001b[38;5;241m+\u001b[39m\u001b[38;5;241m=\u001b[39m model[word]\n\u001b[0;32m     10\u001b[0m         valid_word_count \u001b[38;5;241m+\u001b[39m\u001b[38;5;241m=\u001b[39m \u001b[38;5;241m1\u001b[39m\n",
      "\u001b[1;31mNameError\u001b[0m: name 'wv' is not defined"
     ]
    }
   ],
   "source": [
    "sent_vec(\"this is just me\")"
   ]
  },
  {
   "cell_type": "code",
   "execution_count": null,
   "id": "9cd0fa18-0aff-4bc0-a0df-89d34c72abd6",
   "metadata": {},
   "outputs": [],
   "source": []
  }
 ],
 "metadata": {
  "kernelspec": {
   "display_name": "nlp_vr_env",
   "language": "python",
   "name": "myenv"
  },
  "language_info": {
   "codemirror_mode": {
    "name": "ipython",
    "version": 3
   },
   "file_extension": ".py",
   "mimetype": "text/x-python",
   "name": "python",
   "nbconvert_exporter": "python",
   "pygments_lexer": "ipython3",
   "version": "3.10.0"
  }
 },
 "nbformat": 4,
 "nbformat_minor": 5
}
