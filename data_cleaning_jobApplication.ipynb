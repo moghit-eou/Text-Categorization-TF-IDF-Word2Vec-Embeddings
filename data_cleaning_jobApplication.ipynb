{
 "cells": [
  {
   "cell_type": "code",
   "execution_count": 1,
   "id": "511229a4-7cff-42a9-a8cf-28d21fbef249",
   "metadata": {},
   "outputs": [],
   "source": [
    "import pandas as pd\n"
   ]
  },
  {
   "cell_type": "code",
   "execution_count": 2,
   "id": "86ebec8b-83a3-4c98-a484-25e12a2b8b94",
   "metadata": {},
   "outputs": [],
   "source": [
    "df_1 = pd.read_csv(\"./data/job_application/job_1.csv\")\n",
    "df_2 = pd.read_csv(\"./data/job_application/job_2.csv\")"
   ]
  },
  {
   "cell_type": "code",
   "execution_count": 9,
   "id": "ce6a969f-b956-4f42-a079-6155dc532738",
   "metadata": {},
   "outputs": [],
   "source": [
    "df_1[\"label\"] = \"job_applicant\""
   ]
  },
  {
   "cell_type": "code",
   "execution_count": 8,
   "id": "974cca2a-eda2-409b-8861-35f1baf54801",
   "metadata": {},
   "outputs": [
    {
     "data": {
      "text/html": [
       "<div>\n",
       "<style scoped>\n",
       "    .dataframe tbody tr th:only-of-type {\n",
       "        vertical-align: middle;\n",
       "    }\n",
       "\n",
       "    .dataframe tbody tr th {\n",
       "        vertical-align: top;\n",
       "    }\n",
       "\n",
       "    .dataframe thead th {\n",
       "        text-align: right;\n",
       "    }\n",
       "</style>\n",
       "<table border=\"1\" class=\"dataframe\">\n",
       "  <thead>\n",
       "    <tr style=\"text-align: right;\">\n",
       "      <th></th>\n",
       "      <th>text</th>\n",
       "      <th>label</th>\n",
       "    </tr>\n",
       "  </thead>\n",
       "  <tbody>\n",
       "    <tr>\n",
       "      <th>0</th>\n",
       "      <td>Dear Hiring Manager,\\n\\nI am writing to expres...</td>\n",
       "      <td>job_applicant</td>\n",
       "    </tr>\n",
       "    <tr>\n",
       "      <th>1</th>\n",
       "      <td>Dear Hiring Manager,\\n\\nI am writing to expres...</td>\n",
       "      <td>job_applicant</td>\n",
       "    </tr>\n",
       "    <tr>\n",
       "      <th>2</th>\n",
       "      <td>To the Hiring Team at NextGen Ltd,\\n\\nHaving f...</td>\n",
       "      <td>job_applicant</td>\n",
       "    </tr>\n",
       "    <tr>\n",
       "      <th>3</th>\n",
       "      <td>Dear Hiring Manager,\\n\\nI am writing to expres...</td>\n",
       "      <td>job_applicant</td>\n",
       "    </tr>\n",
       "    <tr>\n",
       "      <th>4</th>\n",
       "      <td>Dear Hiring Manager,\\n\\nI am writing to expres...</td>\n",
       "      <td>job_applicant</td>\n",
       "    </tr>\n",
       "  </tbody>\n",
       "</table>\n",
       "</div>"
      ],
      "text/plain": [
       "                                                text          label\n",
       "0  Dear Hiring Manager,\\n\\nI am writing to expres...  job_applicant\n",
       "1  Dear Hiring Manager,\\n\\nI am writing to expres...  job_applicant\n",
       "2  To the Hiring Team at NextGen Ltd,\\n\\nHaving f...  job_applicant\n",
       "3  Dear Hiring Manager,\\n\\nI am writing to expres...  job_applicant\n",
       "4  Dear Hiring Manager,\\n\\nI am writing to expres...  job_applicant"
      ]
     },
     "execution_count": 8,
     "metadata": {},
     "output_type": "execute_result"
    }
   ],
   "source": [
    "df_2.head()"
   ]
  },
  {
   "cell_type": "code",
   "execution_count": 10,
   "id": "322497e7-7d69-4091-9c44-c4bf3f481de2",
   "metadata": {},
   "outputs": [
    {
     "data": {
      "text/html": [
       "<div>\n",
       "<style scoped>\n",
       "    .dataframe tbody tr th:only-of-type {\n",
       "        vertical-align: middle;\n",
       "    }\n",
       "\n",
       "    .dataframe tbody tr th {\n",
       "        vertical-align: top;\n",
       "    }\n",
       "\n",
       "    .dataframe thead th {\n",
       "        text-align: right;\n",
       "    }\n",
       "</style>\n",
       "<table border=\"1\" class=\"dataframe\">\n",
       "  <thead>\n",
       "    <tr style=\"text-align: right;\">\n",
       "      <th></th>\n",
       "      <th>Cover Letter</th>\n",
       "      <th>label</th>\n",
       "    </tr>\n",
       "  </thead>\n",
       "  <tbody>\n",
       "    <tr>\n",
       "      <th>0</th>\n",
       "      <td>I am writing to express my interest in the Sen...</td>\n",
       "      <td>job_applicant</td>\n",
       "    </tr>\n",
       "    <tr>\n",
       "      <th>1</th>\n",
       "      <td>Dear Hiring Manager,\\n\\nI am writing to expres...</td>\n",
       "      <td>job_applicant</td>\n",
       "    </tr>\n",
       "    <tr>\n",
       "      <th>2</th>\n",
       "      <td>Dear Hiring Manager,\\n\\nI am writing to expres...</td>\n",
       "      <td>job_applicant</td>\n",
       "    </tr>\n",
       "    <tr>\n",
       "      <th>3</th>\n",
       "      <td>Dear Hiring Manager,\\n\\nI am writing to expres...</td>\n",
       "      <td>job_applicant</td>\n",
       "    </tr>\n",
       "    <tr>\n",
       "      <th>4</th>\n",
       "      <td>Dear Hiring Manager,\\n\\nI am writing to expres...</td>\n",
       "      <td>job_applicant</td>\n",
       "    </tr>\n",
       "    <tr>\n",
       "      <th>...</th>\n",
       "      <td>...</td>\n",
       "      <td>...</td>\n",
       "    </tr>\n",
       "    <tr>\n",
       "      <th>720</th>\n",
       "      <td>I am excited to apply for the Senior Database ...</td>\n",
       "      <td>job_applicant</td>\n",
       "    </tr>\n",
       "    <tr>\n",
       "      <th>721</th>\n",
       "      <td>I am applying for the Senior Support Engineer ...</td>\n",
       "      <td>job_applicant</td>\n",
       "    </tr>\n",
       "    <tr>\n",
       "      <th>722</th>\n",
       "      <td>Dear Hiring Manager, I am writing to express m...</td>\n",
       "      <td>job_applicant</td>\n",
       "    </tr>\n",
       "    <tr>\n",
       "      <th>723</th>\n",
       "      <td>Dear Hiring Manager,\\n\\nI am writing to expres...</td>\n",
       "      <td>job_applicant</td>\n",
       "    </tr>\n",
       "    <tr>\n",
       "      <th>724</th>\n",
       "      <td>Dear Hiring Manager,\\n\\nI am writing to expres...</td>\n",
       "      <td>job_applicant</td>\n",
       "    </tr>\n",
       "  </tbody>\n",
       "</table>\n",
       "<p>725 rows × 2 columns</p>\n",
       "</div>"
      ],
      "text/plain": [
       "                                          Cover Letter          label\n",
       "0    I am writing to express my interest in the Sen...  job_applicant\n",
       "1    Dear Hiring Manager,\\n\\nI am writing to expres...  job_applicant\n",
       "2    Dear Hiring Manager,\\n\\nI am writing to expres...  job_applicant\n",
       "3    Dear Hiring Manager,\\n\\nI am writing to expres...  job_applicant\n",
       "4    Dear Hiring Manager,\\n\\nI am writing to expres...  job_applicant\n",
       "..                                                 ...            ...\n",
       "720  I am excited to apply for the Senior Database ...  job_applicant\n",
       "721  I am applying for the Senior Support Engineer ...  job_applicant\n",
       "722  Dear Hiring Manager, I am writing to express m...  job_applicant\n",
       "723  Dear Hiring Manager,\\n\\nI am writing to expres...  job_applicant\n",
       "724  Dear Hiring Manager,\\n\\nI am writing to expres...  job_applicant\n",
       "\n",
       "[725 rows x 2 columns]"
      ]
     },
     "execution_count": 10,
     "metadata": {},
     "output_type": "execute_result"
    }
   ],
   "source": [
    "df_1"
   ]
  },
  {
   "cell_type": "code",
   "execution_count": 11,
   "id": "1fa3eb80-f094-4521-9007-ed6f2bf8b5d7",
   "metadata": {},
   "outputs": [],
   "source": [
    "df_1.rename(columns ={\"Cover Letter\" : \"text\" } , inplace = True)"
   ]
  },
  {
   "cell_type": "code",
   "execution_count": 12,
   "id": "61c91b3e-edf1-4293-8625-bed08dbe47c9",
   "metadata": {},
   "outputs": [
    {
     "data": {
      "text/html": [
       "<div>\n",
       "<style scoped>\n",
       "    .dataframe tbody tr th:only-of-type {\n",
       "        vertical-align: middle;\n",
       "    }\n",
       "\n",
       "    .dataframe tbody tr th {\n",
       "        vertical-align: top;\n",
       "    }\n",
       "\n",
       "    .dataframe thead th {\n",
       "        text-align: right;\n",
       "    }\n",
       "</style>\n",
       "<table border=\"1\" class=\"dataframe\">\n",
       "  <thead>\n",
       "    <tr style=\"text-align: right;\">\n",
       "      <th></th>\n",
       "      <th>text</th>\n",
       "      <th>label</th>\n",
       "    </tr>\n",
       "  </thead>\n",
       "  <tbody>\n",
       "    <tr>\n",
       "      <th>0</th>\n",
       "      <td>I am writing to express my interest in the Sen...</td>\n",
       "      <td>job_applicant</td>\n",
       "    </tr>\n",
       "    <tr>\n",
       "      <th>1</th>\n",
       "      <td>Dear Hiring Manager,\\n\\nI am writing to expres...</td>\n",
       "      <td>job_applicant</td>\n",
       "    </tr>\n",
       "    <tr>\n",
       "      <th>2</th>\n",
       "      <td>Dear Hiring Manager,\\n\\nI am writing to expres...</td>\n",
       "      <td>job_applicant</td>\n",
       "    </tr>\n",
       "    <tr>\n",
       "      <th>3</th>\n",
       "      <td>Dear Hiring Manager,\\n\\nI am writing to expres...</td>\n",
       "      <td>job_applicant</td>\n",
       "    </tr>\n",
       "    <tr>\n",
       "      <th>4</th>\n",
       "      <td>Dear Hiring Manager,\\n\\nI am writing to expres...</td>\n",
       "      <td>job_applicant</td>\n",
       "    </tr>\n",
       "    <tr>\n",
       "      <th>...</th>\n",
       "      <td>...</td>\n",
       "      <td>...</td>\n",
       "    </tr>\n",
       "    <tr>\n",
       "      <th>720</th>\n",
       "      <td>I am excited to apply for the Senior Database ...</td>\n",
       "      <td>job_applicant</td>\n",
       "    </tr>\n",
       "    <tr>\n",
       "      <th>721</th>\n",
       "      <td>I am applying for the Senior Support Engineer ...</td>\n",
       "      <td>job_applicant</td>\n",
       "    </tr>\n",
       "    <tr>\n",
       "      <th>722</th>\n",
       "      <td>Dear Hiring Manager, I am writing to express m...</td>\n",
       "      <td>job_applicant</td>\n",
       "    </tr>\n",
       "    <tr>\n",
       "      <th>723</th>\n",
       "      <td>Dear Hiring Manager,\\n\\nI am writing to expres...</td>\n",
       "      <td>job_applicant</td>\n",
       "    </tr>\n",
       "    <tr>\n",
       "      <th>724</th>\n",
       "      <td>Dear Hiring Manager,\\n\\nI am writing to expres...</td>\n",
       "      <td>job_applicant</td>\n",
       "    </tr>\n",
       "  </tbody>\n",
       "</table>\n",
       "<p>725 rows × 2 columns</p>\n",
       "</div>"
      ],
      "text/plain": [
       "                                                  text          label\n",
       "0    I am writing to express my interest in the Sen...  job_applicant\n",
       "1    Dear Hiring Manager,\\n\\nI am writing to expres...  job_applicant\n",
       "2    Dear Hiring Manager,\\n\\nI am writing to expres...  job_applicant\n",
       "3    Dear Hiring Manager,\\n\\nI am writing to expres...  job_applicant\n",
       "4    Dear Hiring Manager,\\n\\nI am writing to expres...  job_applicant\n",
       "..                                                 ...            ...\n",
       "720  I am excited to apply for the Senior Database ...  job_applicant\n",
       "721  I am applying for the Senior Support Engineer ...  job_applicant\n",
       "722  Dear Hiring Manager, I am writing to express m...  job_applicant\n",
       "723  Dear Hiring Manager,\\n\\nI am writing to expres...  job_applicant\n",
       "724  Dear Hiring Manager,\\n\\nI am writing to expres...  job_applicant\n",
       "\n",
       "[725 rows x 2 columns]"
      ]
     },
     "execution_count": 12,
     "metadata": {},
     "output_type": "execute_result"
    }
   ],
   "source": [
    "df_1"
   ]
  },
  {
   "cell_type": "code",
   "execution_count": 14,
   "id": "ce1dfabf-cd4a-4fcc-8340-fe5497c83f18",
   "metadata": {},
   "outputs": [],
   "source": [
    "df = pd.concat([df_1, df_2] , ignore_index = True )"
   ]
  },
  {
   "cell_type": "code",
   "execution_count": 17,
   "id": "048d9192-2ee4-45a7-90c7-785ec053e713",
   "metadata": {},
   "outputs": [],
   "source": [
    "df.to_csv(\"data/job_application/job_application.csv\" , index = False )"
   ]
  },
  {
   "cell_type": "code",
   "execution_count": null,
   "id": "e78c6632-c4e3-4b22-aa9b-81da5a33fefe",
   "metadata": {},
   "outputs": [],
   "source": []
  },
  {
   "cell_type": "code",
   "execution_count": null,
   "id": "9366d54a-56c2-4417-9565-cfed1a08f4e5",
   "metadata": {},
   "outputs": [],
   "source": []
  }
 ],
 "metadata": {
  "kernelspec": {
   "display_name": "Python 3 (ipykernel)",
   "language": "python",
   "name": "python3"
  },
  "language_info": {
   "codemirror_mode": {
    "name": "ipython",
    "version": 3
   },
   "file_extension": ".py",
   "mimetype": "text/x-python",
   "name": "python",
   "nbconvert_exporter": "python",
   "pygments_lexer": "ipython3",
   "version": "3.10.0"
  }
 },
 "nbformat": 4,
 "nbformat_minor": 5
}
