{
 "cells": [
  {
   "cell_type": "code",
   "execution_count": 2,
   "id": "37649deb-03d1-490f-b7df-5d1b3485f151",
   "metadata": {},
   "outputs": [],
   "source": [
    "import pandas as pd\n",
    "\n",
    "df_1 = pd.read_csv(\"data/co_work/co_work.csv\")\n",
    "df_2 = pd.read_csv(\"data/Customer/customer_data.csv\")\n",
    "df_3 = pd.read_csv(\"data/job_application/job_application.csv\")\n"
   ]
  },
  {
   "cell_type": "code",
   "execution_count": 4,
   "id": "8f69f6d0-b658-421e-a097-98d5d64c7ecf",
   "metadata": {},
   "outputs": [],
   "source": [
    "df = pd.concat( [df_1 , df_2 , df_3 ] , ignore_index = True )"
   ]
  },
  {
   "cell_type": "code",
   "execution_count": 22,
   "id": "a1fbe9de-6920-4bfd-9389-99d39c939dd7",
   "metadata": {},
   "outputs": [
    {
     "data": {
      "text/plain": [
       "label\n",
       "co_worker        19825\n",
       "customer         13077\n",
       "job_applicant     5725\n",
       "Name: count, dtype: int64"
      ]
     },
     "execution_count": 22,
     "metadata": {},
     "output_type": "execute_result"
    }
   ],
   "source": [
    "df[\"label\"].value_counts()"
   ]
  },
  {
   "cell_type": "code",
   "execution_count": 24,
   "id": "47262d4d-0031-4438-bf9e-4f8638ee7d97",
   "metadata": {},
   "outputs": [
    {
     "data": {
      "text/plain": [
       "label\n",
       "co_worker        0.513242\n",
       "customer         0.338546\n",
       "job_applicant    0.148212\n",
       "Name: proportion, dtype: float64"
      ]
     },
     "execution_count": 24,
     "metadata": {},
     "output_type": "execute_result"
    }
   ],
   "source": [
    "df[\"label\"].value_counts(normalize = True) "
   ]
  },
  {
   "cell_type": "code",
   "execution_count": 75,
   "id": "849f7efb-6ec1-4150-bd94-ca1f95fa4e89",
   "metadata": {},
   "outputs": [],
   "source": [
    "import re\n",
    "def preprocess(text):\n",
    "    text = text.lower()\n",
    "    text = re.sub(r'\\n', ' ', text)\n",
    "    text = re.sub(r',' , ' ' , text)\n",
    "    text = re.sub(r'\\.' , ' ' , text ) \n",
    "    text = re.sub(r'-' , ' ' , text ) \n",
    "    return text\n",
    "\n",
    "df['clean_text'] = df['text'].apply(preprocess)"
   ]
  },
  {
   "cell_type": "code",
   "execution_count": 87,
   "id": "4fb35010-49d0-4360-b25d-7bd82cd0d8b2",
   "metadata": {},
   "outputs": [],
   "source": [
    "df.drop(columns = [\"clean_text\"] , inplace = True ) "
   ]
  },
  {
   "cell_type": "code",
   "execution_count": 81,
   "id": "d523993d-f747-4474-97ea-eca7d21879e4",
   "metadata": {},
   "outputs": [
    {
     "name": "stdout",
     "output_type": "stream",
     "text": [
      "just wanted to update everyone on the alpha project  we are currently on track and expect to complete by july 15 \n",
      "hi team  please note that the erp system will be down for maintenance on june 3 \n",
      "just wanted to update everyone on the delta project  we are currently on track and expect to complete by end of q2 \n",
      "please join the meeting on may 12 at 4:30 pm in zoom to discuss team building \n",
      "don't forget the charity run next week – team building exercises \n",
      "notice: changes to remote access have been approved  please read the details and provide feedback \n",
      "attached is the updated travel policy  all employees must comply by august 30 \n",
      "join us for the product showcase on july 1  rsvp by july 20 \n",
      "please join the meeting on may 12 at 4:30 pm in conference room a to discuss team building \n",
      "quick update on apollo migration: all milestones are behind  let me know if you have any questions \n"
     ]
    }
   ],
   "source": [
    "for i in range (10) :\n",
    "    print ( df[ df[\"label\"] == \"co_worker\" ].loc[0:10][\"clean_text\"][i] ) "
   ]
  },
  {
   "cell_type": "code",
   "execution_count": 89,
   "id": "e91dc6ba-05ef-4aa1-84d2-744165062a66",
   "metadata": {},
   "outputs": [],
   "source": [
    "df.to_csv(\"./data/dataset.csv\" , index = False ) \n"
   ]
  },
  {
   "cell_type": "code",
   "execution_count": null,
   "id": "29dd8070-acd9-4419-9a27-4a5f4ca0fc2b",
   "metadata": {},
   "outputs": [],
   "source": []
  }
 ],
 "metadata": {
  "kernelspec": {
   "display_name": "Python 3 (ipykernel)",
   "language": "python",
   "name": "python3"
  },
  "language_info": {
   "codemirror_mode": {
    "name": "ipython",
    "version": 3
   },
   "file_extension": ".py",
   "mimetype": "text/x-python",
   "name": "python",
   "nbconvert_exporter": "python",
   "pygments_lexer": "ipython3",
   "version": "3.10.0"
  }
 },
 "nbformat": 4,
 "nbformat_minor": 5
}
